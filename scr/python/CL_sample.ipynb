{
 "cells": [
  {
   "cell_type": "markdown",
   "id": "62ba64d5-2e77-4863-b090-e74df1bf917f",
   "metadata": {},
   "source": [
    "### Loading Libraries"
   ]
  },
  {
   "cell_type": "code",
   "execution_count": null,
   "id": "3bda9e13-070b-4242-a2b6-5095cdde4c83",
   "metadata": {},
   "outputs": [],
   "source": [
    "import pandas as pd\n",
    "import numpy as np\n",
    "import scanpy as sc\n",
    "import scvelo as scv\n",
    "import anndata as ad\n",
    "import moscot\n",
    "import cellrank as cr\n",
    "sc.settings.verbosity = 3\n",
    "sc.logging.print_header()\n",
    "sc.settings.set_figure_params(dpi=100, facecolor='white')"
   ]
  },
  {
   "cell_type": "code",
   "execution_count": null,
   "id": "c7966cb8-beb4-4993-b01e-3b03fe7a8dbc",
   "metadata": {},
   "outputs": [],
   "source": [
    "scv.set_figure_params()\n",
    "adata_l= scv.read(\"data/10x/1_1/velocyto/1_1.loom\")"
   ]
  },
  {
   "cell_type": "code",
   "execution_count": null,
   "id": "6bc750f3-bc83-4ece-ad85-dc498b85c6f2",
   "metadata": {},
   "outputs": [],
   "source": [
    "adata_l.obs_names = adata_l.obs_names.str.replace('1_1:', '', regex=True)"
   ]
  },
  {
   "cell_type": "code",
   "execution_count": null,
   "id": "71b6b247-fe75-41b5-ace7-8cf5fac63d2f",
   "metadata": {},
   "outputs": [],
   "source": [
    "adata_l.obs_names = adata_l.obs_names.str.replace('x', '', regex=True)"
   ]
  },
  {
   "cell_type": "code",
   "execution_count": null,
   "id": "cc896c1a-9766-44ed-bee6-b0972094ba4a",
   "metadata": {},
   "outputs": [],
   "source": [
    "\n",
    "# we will use this loom file to add the spliced/unspliced data obtained with velocyto to the gene counts obtained by cellranger\n",
    "adata_cellranger = sc.read_10x_mtx(\"data/10x/1_1/outs/filtered_feature_bc_matrix/\", var_names=\"gene_symbols\", cache=False).copy()\n"
   ]
  },
  {
   "cell_type": "code",
   "execution_count": null,
   "id": "347cd2d8-9179-4f00-abd6-e856d759827e",
   "metadata": {},
   "outputs": [],
   "source": [
    "adata_cellranger.obs_names = adata_cellranger.obs_names.str.replace('-1', '', regex=True)"
   ]
  },
  {
   "cell_type": "code",
   "execution_count": null,
   "id": "0c7c8389-829d-4996-844a-e34315051e09",
   "metadata": {},
   "outputs": [],
   "source": [
    "adata_loom = scv.utils.merge(adata_cellranger,adata_l)"
   ]
  },
  {
   "cell_type": "code",
   "execution_count": null,
   "id": "16bf1d86-c584-46fc-8a05-36478c9471ff",
   "metadata": {},
   "outputs": [],
   "source": [
    "# Change the index name in the obs DataFrame\n",
    "adata_loom.obs.index.name = 'CellID'"
   ]
  },
  {
   "cell_type": "code",
   "execution_count": null,
   "id": "9062ca04-884d-43e9-a7bb-3e8d3ccf524e",
   "metadata": {},
   "outputs": [],
   "source": [
    "adata = adata_loom"
   ]
  },
  {
   "cell_type": "code",
   "execution_count": null,
   "id": "579d7659-d324-4370-a4a3-bfc54ff31501",
   "metadata": {},
   "outputs": [],
   "source": [
    "adata.obs"
   ]
  },
  {
   "cell_type": "code",
   "execution_count": null,
   "id": "068f9363-b4ef-4c81-bd75-878658155936",
   "metadata": {},
   "outputs": [],
   "source": [
    "adata.var_names_make_unique()"
   ]
  },
  {
   "cell_type": "markdown",
   "id": "bd4f3608-3add-43ee-a5aa-7687cf721be2",
   "metadata": {},
   "source": [
    "### Quality Control"
   ]
  },
  {
   "cell_type": "code",
   "execution_count": null,
   "id": "99e757e3-9d8b-425f-91e3-088abe9b3279",
   "metadata": {},
   "outputs": [],
   "source": [
    "adata.var['mt'] = adata.var_names.str.startswith('MT-')\n",
    "\n",
    "sc.pp.calculate_qc_metrics(adata, qc_vars=['mt'], log1p=True , inplace=True)"
   ]
  },
  {
   "cell_type": "code",
   "execution_count": null,
   "id": "e15da92e-8e79-450d-838e-4cf83c2fab0c",
   "metadata": {},
   "outputs": [],
   "source": [
    "variable_names = adata.var_names\n",
    "mt_genes = [gene for gene in variable_names if gene.startswith('MT-')]\n",
    "print(mt_genes)"
   ]
  },
  {
   "cell_type": "code",
   "execution_count": null,
   "id": "fb5bcd8b-85cb-43a7-a367-37e73a9ece26",
   "metadata": {},
   "outputs": [],
   "source": [
    "sc.pl.violin(adata, [\"n_genes_by_counts\", \"total_counts\",'pct_counts_mt'], jitter=0.4, multi_panel=True)"
   ]
  },
  {
   "cell_type": "code",
   "execution_count": null,
   "id": "824af81a-afd4-40bb-8881-6eff0af83b89",
   "metadata": {},
   "outputs": [],
   "source": [
    "sc.pl.scatter(adata, \"total_counts\", \"n_genes_by_counts\", color=\"pct_counts_mt\")"
   ]
  },
  {
   "cell_type": "code",
   "execution_count": null,
   "id": "24fead69-fd59-4f2a-bfc4-8cc98633afce",
   "metadata": {},
   "outputs": [],
   "source": [
    "adata = adata[adata.obs.n_genes_by_counts < 6000, :]\n",
    "adata = adata[adata.obs.n_genes_by_counts >1500, :]\n",
    "adata = adata[adata.obs[\"pct_counts_mt\"] < 20].copy()"
   ]
  },
  {
   "cell_type": "code",
   "execution_count": null,
   "id": "28cd153b-ede7-4ffd-a039-86d1cf0da85b",
   "metadata": {},
   "outputs": [],
   "source": [
    "print(f\"#cells after MT filter: {adata.n_obs}\")"
   ]
  },
  {
   "cell_type": "markdown",
   "id": "7a5dd6d8-6216-4b6e-9164-7982a19fb3cb",
   "metadata": {},
   "source": [
    "### Normalization\n",
    "\n",
    "The next preprocessing step is normalization. A common approach is count depth scaling with subsequent log plus one (log1p) transformation. Count depth scaling normalizes the data to a “size factor” such as the median count depth in the dataset, ten thousand (CP10k) or one million (CPM, counts per million). The size factor for count depth scaling can be controlled via target_sum in pp.normalize_total. We are applying median count depth normalization with log1p transformation (AKA log1PF).\n",
    "\n",
    "**target_sum=1e4:** This is the total count to which each cell's expression will be scaled. After normalization, the sum of all gene expression values in each cell will be equal to 10,000 (i.e., 1e4). This is a common choice in scRNA-seq normalization because it converts gene expression counts to a scale that is more manageable and easier to compare across cells.\n",
    "\n",
    "* The raw counts of gene expression for each cell are divided by the total sum of counts in that cell.\n",
    "* The result is then multiplied by target_sum=1e4, making the total expression for each cell equal to 10,000. This standardization removes differences caused by varying sequencing depth across cells."
   ]
  },
  {
   "cell_type": "code",
   "execution_count": null,
   "id": "bdf222ae-822b-4f73-aec5-500e75f706cb",
   "metadata": {},
   "outputs": [],
   "source": [
    "# Normalizing to median total counts\n",
    "sc.pp.normalize_total(adata, target_sum=1e4)\n",
    "# Logarithmize the data\n",
    "sc.pp.log1p(adata)"
   ]
  },
  {
   "cell_type": "markdown",
   "id": "5da07197-c730-4e89-b66b-3747f5da6d4a",
   "metadata": {},
   "source": [
    "### Feature selection\n",
    "As a next step, we want to reduce the dimensionality of the dataset and only include the most informative genes. This step is commonly known as feature selection. The scanpy function pp.highly_variable_genes annotates highly variable genes by reproducing the implementations of Seurat [Satija et al., 2015], Cell Ranger [Zheng et al., 2017], and Seurat v3 [Stuart et al., 2019] depending on the chosen flavor."
   ]
  },
  {
   "cell_type": "code",
   "execution_count": null,
   "id": "949a6737-5c27-4cf3-81d6-31acd7c0af7f",
   "metadata": {},
   "outputs": [],
   "source": [
    "sc.pp.highly_variable_genes(adata, min_mean=0.0125, max_mean=3, min_disp=0.5)\n",
    "#top10_genes = adata.var[adata.var['highly_variable']].sort_values(by='dispersions', ascending=False).head(10).index"
   ]
  },
  {
   "cell_type": "code",
   "execution_count": null,
   "id": "cb362f03-b0ed-4e4c-878c-61d78bdd6bde",
   "metadata": {},
   "outputs": [],
   "source": [
    "sc.pl.highly_variable_genes(adata)"
   ]
  },
  {
   "cell_type": "code",
   "execution_count": null,
   "id": "d32a0cc5-69da-4442-8dba-61b6be8c687b",
   "metadata": {},
   "outputs": [],
   "source": [
    "adata.raw = adata\n",
    "adata = adata[:, adata.var.highly_variable]"
   ]
  },
  {
   "cell_type": "code",
   "execution_count": null,
   "id": "feb864dc-5ce6-490f-ab4e-77aa91fea5c6",
   "metadata": {},
   "outputs": [],
   "source": [
    "adata.obs"
   ]
  },
  {
   "cell_type": "markdown",
   "id": "6dee66fc-b144-4f93-9343-eb3153e0fd17",
   "metadata": {},
   "source": [
    "### cell cycle scoring "
   ]
  },
  {
   "cell_type": "code",
   "execution_count": null,
   "id": "1ff495b4-512c-46e7-a156-4557b1e4091c",
   "metadata": {},
   "outputs": [],
   "source": [
    "# Assuming adata is your AnnData object\n",
    "\n",
    "# Define cell cycle genes\n",
    "cell_cycle_genes = {\n",
    "    'G1/S': [\n",
    "        'MCM5', 'PCNA', 'TYMS', 'FEN1', 'MCM2', 'MCM4', 'RRM1', 'UNG', 'GINS2', 'MCM6', 'CDCA7', 'DTL',\n",
    "        'PRIM1', 'UHRF1', 'CENPU', 'HELLS', 'RFC2', 'RPA2', 'NASP', 'RAD51AP1', 'GMNN', 'WDR76', 'SLBP',\n",
    "        'CCNE2', 'UBR7', 'POLD3', 'MSH2', 'ATAD2', 'RAD51', 'RRM2', 'CDC45', 'CDC6', 'EXO1', 'TIPIN',\n",
    "        'DSCC1', 'BLM', 'CASP8AP2', 'USP1', 'CLSPN', 'POLA1', 'CHAF1B', 'BRIP1', 'E2F8'\n",
    "    ],\n",
    "    'G2/M': [\n",
    "        'HMGB2', 'CDK1', 'NUSAP1', 'UBE2C', 'BIRC5', 'TPX2', 'TOP2A', 'NDC80', 'CKAP2L', 'CKAP2', 'AURKB',\n",
    "        'BUB1', 'KIF11', 'ANP32E', 'TUBB4B', 'GTSE1', 'KIF20B', 'HJURP', 'CDCA3', 'CDC20', 'TTK', 'CDC25C',\n",
    "        'KIF2C', 'RANGAP1', 'NCAPG', 'DLGAP5', 'CDCA2', 'CDCA8', 'ECT2', 'KIF23', 'HMMR', 'AURKA', 'PSRC1',\n",
    "        'ANLN', 'LBR', 'CKAP5', 'CENPF', 'CENPE', 'CTCF', 'NEK2', 'G2E3', 'GAS2L3', 'CBX5', 'CENPA'\n",
    "    ]\n",
    "}\n",
    "\n",
    "# Create dataframes for the cell cycle genes\n",
    "s_genes = pd.Series(cell_cycle_genes['G1/S'], name='S')\n",
    "g2m_genes = pd.Series(cell_cycle_genes['G2/M'], name='G2M')\n",
    "\n",
    "# Score the cell cycle genes\n",
    "sc.tl.score_genes_cell_cycle(adata, s_genes=s_genes, g2m_genes=g2m_genes)\n",
    "\n",
    "# Visualize the cell cycle scores\n",
    "sc.pl.scatter(adata, x='S_score', y='G2M_score')\n",
    "\n",
    "# Visualize cell cycle phase assignments\n",
    "#sc.pl.umap(adata, color=['S_score', 'G2M_score', 'phase'])\n",
    "\n"
   ]
  },
  {
   "cell_type": "code",
   "execution_count": null,
   "id": "246054c4-54cb-4520-b0b8-170b4133874c",
   "metadata": {},
   "outputs": [],
   "source": [
    "# regressing out the Mitochondrial genes and cell cycle correction \n",
    "sc.pp.regress_out(adata, keys=['S_score', 'G2M_score', 'pct_counts_mt'])"
   ]
  },
  {
   "cell_type": "markdown",
   "id": "875ef272-1623-4d47-8236-0e165b299454",
   "metadata": {},
   "source": [
    "### Scale Data"
   ]
  },
  {
   "cell_type": "code",
   "execution_count": null,
   "id": "87d49330-1129-4cf7-a135-e609ad203b1f",
   "metadata": {},
   "outputs": [],
   "source": [
    "sc.pp.scale(adata, max_value=10)"
   ]
  },
  {
   "cell_type": "markdown",
   "id": "48340225-1459-4fb3-bc4a-8daf29c239fd",
   "metadata": {},
   "source": [
    "### Dimensionality Reduction\n",
    "Reduce the dimensionality of the data by running principal component analysis (PCA), which reveals the main axes of variation and denoises the data."
   ]
  },
  {
   "cell_type": "code",
   "execution_count": null,
   "id": "242f6155-c707-49e5-a118-f16bcaf72d26",
   "metadata": {},
   "outputs": [],
   "source": [
    "sc.tl.pca(adata, svd_solver=\"arpack\")"
   ]
  },
  {
   "cell_type": "code",
   "execution_count": null,
   "id": "c5a9a193-da69-4b6d-ac87-0250ed0727b9",
   "metadata": {},
   "outputs": [],
   "source": [
    "sc.pl.pca_variance_ratio(adata, log=True)"
   ]
  },
  {
   "cell_type": "markdown",
   "id": "da988520-007d-441d-ac44-8c64c48aeac4",
   "metadata": {},
   "source": [
    "### Nearest neighbor graph constuction and visualization\n"
   ]
  },
  {
   "cell_type": "code",
   "execution_count": null,
   "id": "e1347e9e-1438-427d-ac96-37f1084441c6",
   "metadata": {},
   "outputs": [],
   "source": [
    "sc.pp.neighbors(adata,n_neighbors=10, n_pcs=40)"
   ]
  },
  {
   "cell_type": "code",
   "execution_count": null,
   "id": "b166d78a-58f9-49bb-815f-b6494fbd49b1",
   "metadata": {},
   "outputs": [],
   "source": [
    "sc.tl.louvain(adata, flavor='vtraag', resolution=0.56)"
   ]
  },
  {
   "cell_type": "code",
   "execution_count": null,
   "id": "cf5e38a1-a7f3-4c82-9b58-30f961c04309",
   "metadata": {},
   "outputs": [],
   "source": [
    "sc.tl.umap(adata)"
   ]
  },
  {
   "cell_type": "code",
   "execution_count": null,
   "id": "5145e979-cd66-4f76-a85f-463d3196231a",
   "metadata": {},
   "outputs": [],
   "source": [
    "sc.pl.umap(adata, color=[\"louvain\"])\n",
    "sc.pl.umap(adata, color=[\"phase\"])"
   ]
  },
  {
   "cell_type": "code",
   "execution_count": null,
   "id": "5dee30d5-306b-4e41-a7bd-d51ddd565d3d",
   "metadata": {},
   "outputs": [],
   "source": [
    "for res in [0.02, 0.56, 2.0]:\n",
    "    sc.tl.louvain(\n",
    "        adata, key_added=f\"louvain_res_{res:4.2f}\", resolution=res, flavor='vtraag'\n",
    "    )"
   ]
  },
  {
   "cell_type": "code",
   "execution_count": null,
   "id": "cac6651c-ad59-462c-a44a-e9d1c1d79729",
   "metadata": {},
   "outputs": [],
   "source": [
    "sc.pl.umap(\n",
    "    adata,\n",
    "    color=[\"louvain_res_0.02\", \"louvain_res_0.56\", \"louvain_res_2.00\"],\n",
    "    \n",
    ")"
   ]
  },
  {
   "cell_type": "markdown",
   "id": "6c837400-fa51-4683-83ec-b706e108e1d9",
   "metadata": {},
   "source": [
    "## RNA Velocity"
   ]
  },
  {
   "cell_type": "code",
   "execution_count": null,
   "id": "6ed0bf56-a971-4170-8ed7-c94ea628161c",
   "metadata": {},
   "outputs": [],
   "source": [
    "scv.pl.proportions(adata)\n",
    "scv.pp.moments(adata, n_pcs=50, n_neighbors=10)\n",
    "##scv.tl.recover_dynamics(adata, n_jobs=8)\n",
    "#scv.tl.velocity(adata, mode=\"dynamical\")\n",
    "scv.tl.velocity(adata, mode='stochastic')\n",
    "scv.tl.velocity_graph(adata)\n",
    "scv.pl.velocity_embedding_stream(adata, basis='umap', color='louvain')"
   ]
  },
  {
   "cell_type": "code",
   "execution_count": null,
   "id": "8c3d891f-3b51-4af3-9caa-658424104955",
   "metadata": {},
   "outputs": [],
   "source": [
    "# Obtain cluster-specific differentially expressed genes\n",
    "sc.tl.rank_genes_groups(adata, groupby=\"louvain_res_0.56\", method=\"wilcoxon\")\n",
    "sc.pl.rank_genes_groups_dotplot(\n",
    "    adata, groupby=\"louvain_res_0.56\", standard_scale=\"var\", n_genes=5\n",
    ")"
   ]
  },
  {
   "cell_type": "code",
   "execution_count": null,
   "id": "bd19e722-1a53-40f9-a45b-8263d460bf29",
   "metadata": {},
   "outputs": [],
   "source": [
    "#adding the meta-models the velocity \n",
    "\n",
    "\n",
    "pd.set_option(\"display.precision\", 9)\n",
    "import urllib.request\n",
    "\n",
    "# Fetch the script from the URL\n",
    "url = \"https://raw.githubusercontent.com/kris-nader/sc-type-py/main/sctype_py.py\"\n",
    "response = urllib.request.urlopen(url)\n",
    "script = response.read().decode()\n",
    "\n",
    "# Execute the script\n",
    "exec(script)"
   ]
  },
  {
   "cell_type": "code",
   "execution_count": null,
   "id": "69779da7-5a40-4355-8c97-ae3f539faf2b",
   "metadata": {},
   "outputs": [],
   "source": [
    "adata.layers[\"counts\"] = adata.X.copy()\n",
    "scaled_data = pd.DataFrame(adata.X)\n",
    "# change column indexes\n",
    "scaled_data.columns =adata.var_names\n",
    "# Change the row indexes\n",
    "scaled_data.index = adata.obs_names\n",
    "scaled_data=scaled_data.T"
   ]
  },
  {
   "cell_type": "code",
   "execution_count": null,
   "id": "be76e07b-af68-44fe-a289-ca7a4a3f966f",
   "metadata": {},
   "outputs": [],
   "source": [
    "adata.X"
   ]
  },
  {
   "cell_type": "code",
   "execution_count": null,
   "id": "81a2465c-7646-40d3-a629-e1441708db2e",
   "metadata": {},
   "outputs": [],
   "source": [
    "scRNAseqData=scaled_data\n",
    "gs_list=gene_sets_prepare(path_to_db_file=\"/beegfs/scratch/ric.tonon/ric.tonon/Hamed_plasticity/share/data/ScTypeDB_full.xlsx\",cell_type=\"metamodules\")\n",
    "es_max = sctype_score(scRNAseqData = scRNAseqData, scaled = True, gs = gs_list['gs_positive'], gs2 = gs_list['gs_negative'])\n",
    "\n",
    "unique_clusters = adata.obs['louvain_res_2.00'].unique()\n",
    "# Apply the function to each unique cluster and combine the results into a DataFrame\n",
    "cL_results = pd.concat([process_cluster(cluster,adata,es_max,'louvain_res_2.00') for cluster in unique_clusters])\n",
    "\n",
    "# Group by cluster and select the top row based on scores\n",
    "sctype_scores = cL_results.groupby('cluster').apply(lambda x: x.nlargest(1, 'scores')).reset_index(drop=True)\n",
    "\n",
    "# Set low-confidence clusters to \"Unknown\"\n",
    "sctype_scores.loc[sctype_scores['scores'] < sctype_scores['ncells'] / 4, 'type'] = 'Unknown'\n",
    "\n",
    "# Iterate over unique clusters\n",
    "adata.obs['sctype_classification'] = \"\"\n",
    "for cluster in sctype_scores['cluster'].unique():\n",
    "    # Filter sctype_scores for the current cluster\n",
    "    cl_type = sctype_scores[sctype_scores['cluster'] == cluster]\n",
    "    # Get the type for the current cluster\n",
    "    cl_type_value = cl_type['type'].iloc[0]\n",
    "    # Update 'sctype_classification' in pbmc.obs for cells belonging to the current cluster\n",
    "    adata.obs.loc[adata.obs['louvain_res_2.00'] == cluster, 'sctype_classification'] = cl_type_value\n",
    "\n",
    "# Plot the UMAP with sctype_classification as labels\n",
    "sc.pl.umap(adata, color='sctype_classification', title='UMAP with sctype_classification')"
   ]
  },
  {
   "cell_type": "code",
   "execution_count": null,
   "id": "ee527ebf-1cca-449d-87b9-7673a9fb29c0",
   "metadata": {},
   "outputs": [],
   "source": [
    "import pandas as pd\n",
    "\n",
    "# Load the tab-delimited file into a pandas DataFrame\n",
    "file_path = 'metamodules.txt'  # Replace with the correct file path\n",
    "modules_df = pd.read_csv(file_path, delimiter='\\t', index_col=0)\n",
    "\n",
    "# Convert the DataFrame into a dictionary of lists\n",
    "# Each column represents a module, and each row represents genes\n",
    "modules_dict = {col: modules_df[col].dropna().tolist() for col in modules_df.columns}\n",
    "\n",
    "# Check the module dictionary (optional)\n",
    "print(modules_dict)"
   ]
  },
  {
   "cell_type": "code",
   "execution_count": null,
   "id": "fbed3a23-39a7-44ea-8369-8d20bdd80dfc",
   "metadata": {},
   "outputs": [],
   "source": [
    "import scanpy as sc\n",
    "\n",
    "# Calculate the scores for each module\n",
    "for module_name, gene_list in modules_dict.items():\n",
    "    sc.tl.score_genes(adata, gene_list, score_name=module_name)\n",
    "\n",
    "# Check the adata.obs to see the added module scores (optional)\n",
    "print(adata.obs.head())"
   ]
  },
  {
   "cell_type": "code",
   "execution_count": null,
   "id": "4529955f-8f7b-45cf-b1dc-5616e539d86f",
   "metadata": {},
   "outputs": [],
   "source": [
    "import scanpy as sc\n",
    "import matplotlib.pyplot as plt\n",
    "\n",
    "# List of module names (replace with actual names from your data)\n",
    "module_names = list(modules_dict.keys())\n",
    "\n",
    "# Create subplots: 1 row, N columns (side-by-side)\n",
    "fig, axes = plt.subplots(1, len(module_names), figsize=(5 * len(module_names), 5))\n",
    "\n",
    "# Plot each UMAP in a separate subplot\n",
    "for i, module_name in enumerate(module_names):\n",
    "    sc.pl.umap(adata, color=module_name, cmap='RdYlBu_r', size=40, ax=axes[i], show=False)\n",
    "    axes[i].set_title(f'UMAP: {module_name}')\n",
    "\n",
    "# Show the plots\n",
    "plt.tight_layout()\n",
    "plt.show()"
   ]
  },
  {
   "cell_type": "code",
   "execution_count": null,
   "id": "035d345d-4954-46ae-b6f7-7d00e9c31f40",
   "metadata": {},
   "outputs": [],
   "source": [
    "sc.pl.umap(adata, color=[\"louvain_res_0.56\", \"log1p_total_counts\", \"pct_counts_mt\", \"log1p_n_genes_by_counts\"])"
   ]
  },
  {
   "cell_type": "code",
   "execution_count": null,
   "id": "2ec5ef6e-14bf-42e1-aa6c-e45ae77eb1e2",
   "metadata": {},
   "outputs": [],
   "source": [
    "import pandas as pd\n",
    "\n",
    "# Load the CSV file into a pandas DataFrame\n",
    "df = pd.read_csv('Pop_GeneLists2.csv')\n",
    "\n",
    "# Group the genes based on the signature they belong to\n",
    "# Assuming the signature names are unique in the 'List' column\n",
    "signatures = df.groupby('List')['Name'].apply(list).to_dict()\n",
    "\n",
    "# You will now have a dictionary where the keys are the signature names\n",
    "# and the values are the corresponding lists of genes"
   ]
  },
  {
   "cell_type": "code",
   "execution_count": null,
   "id": "a241cd18-dec6-4e2b-875e-791dc8354d18",
   "metadata": {},
   "outputs": [],
   "source": [
    "# Calculate scores for each signature\n",
    "for signature_name, gene_list in signatures.items():\n",
    "    # Calculate the score for each gene signature\n",
    "    sc.tl.score_genes(adata, gene_list, score_name=signature_name + '_score')\n",
    "\n",
    "# Now the scores will be stored in adata.obs with column names like 'Signature1_score', 'Signature2_score', etc."
   ]
  },
  {
   "cell_type": "code",
   "execution_count": null,
   "id": "4fbfa4ba-8cca-4f74-a007-b48ef2781f44",
   "metadata": {},
   "outputs": [],
   "source": [
    "# Visualize the signature scores on UMAP\n",
    "sc.pl.umap(adata, color=[signature_name + '_score' for signature_name in signatures.keys()],size=100, cmap='RdYlBu_r')"
   ]
  },
  {
   "cell_type": "markdown",
   "id": "a6714156-5339-49ca-9780-7a3397d7a2bd",
   "metadata": {},
   "source": [
    "### Cell Rank"
   ]
  },
  {
   "cell_type": "markdown",
   "id": "c1fb9496-98aa-4131-b412-78ee671f35c5",
   "metadata": {},
   "source": [
    "#### velocity kernel"
   ]
  },
  {
   "cell_type": "code",
   "execution_count": null,
   "id": "eae43216-9330-433f-8f0a-a74a0b1bcf55",
   "metadata": {},
   "outputs": [],
   "source": [
    "vk = cr.kernels.VelocityKernel(adata)"
   ]
  },
  {
   "cell_type": "code",
   "execution_count": null,
   "id": "ddbd7655-7013-44ca-810a-2beb4c3918d4",
   "metadata": {},
   "outputs": [],
   "source": [
    "vk"
   ]
  },
  {
   "cell_type": "code",
   "execution_count": null,
   "id": "8e23916d-29a9-4e7f-8b2b-ab814a3ca6d0",
   "metadata": {},
   "outputs": [],
   "source": [
    "vk.compute_transition_matrix()"
   ]
  },
  {
   "cell_type": "code",
   "execution_count": null,
   "id": "37109fef-51f0-4d7f-b524-deebd2d2ece8",
   "metadata": {},
   "outputs": [],
   "source": [
    "vk.plot_projection(color = 'louvain_res_0.56')"
   ]
  },
  {
   "cell_type": "markdown",
   "id": "446e0845-2d3f-45ba-8d45-9de181bf789c",
   "metadata": {},
   "source": [
    "## finding initial & terminal states with velocity kernel"
   ]
  },
  {
   "cell_type": "code",
   "execution_count": null,
   "id": "1b81736f-5138-4c37-b238-120577e4c04a",
   "metadata": {},
   "outputs": [],
   "source": [
    "g = cr.estimators.GPCCA(vk)\n",
    "print(g)"
   ]
  },
  {
   "cell_type": "code",
   "execution_count": null,
   "id": "f7d429c2-e391-44b3-a86a-faeece80cf73",
   "metadata": {},
   "outputs": [],
   "source": [
    "g.fit(cluster_key=\"louvain_res_0.56\", n_states=[2, 10])\n",
    "g.plot_macrostates(which=\"all\", discrete=True, legend_loc=\"right\", s=100)"
   ]
  },
  {
   "cell_type": "code",
   "execution_count": null,
   "id": "dcea5039-2011-40fc-98eb-7528f3a34c32",
   "metadata": {},
   "outputs": [],
   "source": [
    "g.predict_terminal_states()\n",
    "g.plot_macrostates(which=\"terminal\", legend_loc=\"right\", s=100)"
   ]
  },
  {
   "cell_type": "code",
   "execution_count": null,
   "id": "0b8836a7-7a98-45da-b128-12dd3becbd6f",
   "metadata": {},
   "outputs": [],
   "source": [
    "g.predict_initial_states(allow_overlap=True)\n",
    "g.plot_macrostates(which=\"initial\", legend_loc=\"right\", s=100)"
   ]
  },
  {
   "cell_type": "code",
   "execution_count": null,
   "id": "476ad287-8819-4c43-ac85-0fd49f19d52c",
   "metadata": {},
   "outputs": [],
   "source": [
    "g"
   ]
  },
  {
   "cell_type": "code",
   "execution_count": null,
   "id": "5820f6b6-b8a7-4e32-bd78-813d21e87f98",
   "metadata": {},
   "outputs": [],
   "source": [
    "g.plot_coarse_T()"
   ]
  },
  {
   "cell_type": "markdown",
   "id": "238939de-007b-4b27-8be6-aaa84c546ebd",
   "metadata": {},
   "source": [
    "#### Pseudotime (dpt) kernel"
   ]
  },
  {
   "cell_type": "code",
   "execution_count": null,
   "id": "6ef43b1d-9d79-4553-a656-1106ade4cddb",
   "metadata": {},
   "outputs": [],
   "source": [
    "# I repeat removing cluster6\n",
    "adata_copy = adata[adata.obs['louvain'] != '6'].copy()"
   ]
  },
  {
   "cell_type": "code",
   "execution_count": null,
   "id": "772d4ab7-6d55-4e81-b7fb-899fcdf94624",
   "metadata": {},
   "outputs": [],
   "source": [
    "sc.tl.diffmap(adata_copy)"
   ]
  },
  {
   "cell_type": "code",
   "execution_count": null,
   "id": "aa94663c-dc81-412b-bf7c-d8502c3226cf",
   "metadata": {},
   "outputs": [],
   "source": [
    "adata_copy.obsm['X_diffmap'][:, 3].argmax()"
   ]
  },
  {
   "cell_type": "code",
   "execution_count": null,
   "id": "e3be63cf-58e9-4f5b-9d00-d374b400962c",
   "metadata": {},
   "outputs": [],
   "source": [
    "root_ixs = 1902  # has been found using `adata.obsm['X_diffmap'][:, 3].argmax()`\n",
    "\n",
    "scv.pl.scatter(\n",
    "    adata_copy,\n",
    "    basis=\"diffmap\",\n",
    "    c=[\"louvain_res_0.56\", root_ixs],\n",
    "    legend_loc=\"right\",\n",
    "    components=[\"2, 4\"],\n",
    ")\n",
    "\n",
    "adata_copy.uns[\"iroot\"] = root_ixs"
   ]
  },
  {
   "cell_type": "code",
   "execution_count": null,
   "id": "0f460e9c-6c4d-48a5-bb24-8c050e12c052",
   "metadata": {},
   "outputs": [],
   "source": [
    "sc.tl.dpt(adata_copy)\n",
    "sc.pl.embedding(\n",
    "    adata_copy,\n",
    "    basis=\"umap\",\n",
    "    color=[\"dpt_pseudotime\"],\n",
    "    color_map=\"gnuplot2\",\n",
    ")\n"
   ]
  },
  {
   "cell_type": "code",
   "execution_count": null,
   "id": "ac25bc56-7989-41c9-bd95-3f438278105e",
   "metadata": {},
   "outputs": [],
   "source": [
    "pk = cr.kernels.PseudotimeKernel(adata_copy, time_key=\"dpt_pseudotime\")\n",
    "pk.compute_transition_matrix()\n",
    "\n",
    "print(pk)"
   ]
  },
  {
   "cell_type": "code",
   "execution_count": null,
   "id": "1c88b6b4-c253-43a8-95ad-4c3a2fff947d",
   "metadata": {},
   "outputs": [],
   "source": [
    "#following plot are purely informed by the pseudotime and the umap graph, and not by RNA velocity\n",
    "pk.plot_projection(basis=\"umap\", recompute=True)"
   ]
  },
  {
   "cell_type": "markdown",
   "id": "2a4ecfb3-04ea-4516-9b58-a29b5ec5a926",
   "metadata": {},
   "source": [
    "## finding initial & terminal states with pseudotime(dpt) kernel"
   ]
  },
  {
   "cell_type": "code",
   "execution_count": null,
   "id": "07513392-be81-4232-ae4c-307c9e9347ef",
   "metadata": {},
   "outputs": [],
   "source": [
    "g3 = cr.estimators.GPCCA(pk)\n",
    "print(g3)"
   ]
  },
  {
   "cell_type": "code",
   "execution_count": null,
   "id": "13c68a1e-99cc-44dd-ba04-ac096becdf9a",
   "metadata": {},
   "outputs": [],
   "source": [
    "g3.fit(cluster_key=\"louvain_res_0.56\", n_states=[2, 12])\n",
    "g3.plot_macrostates(which=\"all\", discrete=True, legend_loc=\"right\", s=100)"
   ]
  },
  {
   "cell_type": "code",
   "execution_count": null,
   "id": "a3b652ea-d00b-4c41-a80d-b6bfb9d1349f",
   "metadata": {},
   "outputs": [],
   "source": [
    "g3.predict_terminal_states()\n",
    "g3.plot_macrostates(which=\"terminal\", legend_loc=\"right\", s=100)"
   ]
  },
  {
   "cell_type": "code",
   "execution_count": null,
   "id": "e9f1e16d-6435-4cd3-84d1-3359c37042ea",
   "metadata": {},
   "outputs": [],
   "source": [
    "g3.predict_initial_states(allow_overlap=True)\n",
    "g3.plot_macrostates(which=\"initial\", legend_loc=\"right\", s=100)"
   ]
  },
  {
   "cell_type": "code",
   "execution_count": null,
   "id": "69c79832-4ae8-4871-a5cc-1fdd9ade9285",
   "metadata": {},
   "outputs": [],
   "source": [
    "g3.set_terminal_states(states=[\"1_1, 1_2\", \"3\", \"4\",\"0\"])\n",
    "g3.plot_macrostates(which=\"terminal\", legend_loc=\"right\", s=100)"
   ]
  },
  {
   "cell_type": "code",
   "execution_count": null,
   "id": "b010ec6e-dbf0-4013-903f-6b2ccf7919f5",
   "metadata": {},
   "outputs": [],
   "source": [
    "g3.plot_coarse_T()"
   ]
  },
  {
   "cell_type": "markdown",
   "id": "d61d7591-2783-4933-abdf-c30d23d1098f",
   "metadata": {},
   "source": [
    "## Fate Probabilities\n",
    "\n",
    "for the moment we chose the pseudotime kernel(basic) to go on with"
   ]
  },
  {
   "cell_type": "code",
   "execution_count": null,
   "id": "cc4a3eaa-c5b6-4fd6-9309-85b978413dc3",
   "metadata": {},
   "outputs": [],
   "source": [
    "g3.compute_fate_probabilities()\n",
    "g3.plot_fate_probabilities(same_plot=False)"
   ]
  },
  {
   "cell_type": "code",
   "execution_count": null,
   "id": "47944d6d-826b-41c6-92cd-ae534a902416",
   "metadata": {},
   "outputs": [],
   "source": [
    "g3.plot_fate_probabilities(same_plot=True)"
   ]
  },
  {
   "cell_type": "code",
   "execution_count": null,
   "id": "fdd21a2b-b68b-4afb-85b7-d91eb16e679a",
   "metadata": {},
   "outputs": [],
   "source": [
    "fev_states = [ \"1\", \"3\", \"0\",\"4\"]\n",
    "sc.pl.embedding(\n",
    "    adata_copy, basis=\"umap\", color=\"louvain_res_0.56\", groups=fev_states, legend_loc=\"right\"\n",
    ")"
   ]
  },
  {
   "cell_type": "code",
   "execution_count": null,
   "id": "f1395a03-db44-431b-9fa5-a8315601d708",
   "metadata": {},
   "outputs": [],
   "source": [
    "cr.pl.circular_projection(adata_copy, keys=[\"louvain_res_0.56\"], legend_loc=\"right\")"
   ]
  },
  {
   "cell_type": "code",
   "execution_count": null,
   "id": "6cff17e4-b60e-439a-96d3-c03b6a9c4a42",
   "metadata": {},
   "outputs": [],
   "source": [
    "cr.pl.aggregate_fate_probabilities(\n",
    "    adata_copy,\n",
    "    mode=\"violin\",\n",
    "    lineages=[\"0\"],\n",
    "    cluster_key=\"louvain_res_0.56\",\n",
    "    clusters=fev_states,\n",
    ")"
   ]
  },
  {
   "cell_type": "code",
   "execution_count": null,
   "id": "298b48d6-6952-48e1-b794-f5c6dbfba1b9",
   "metadata": {},
   "outputs": [],
   "source": [
    "driver_clusters = [ \"1\", \"3\", \"0\",\"4\"]\n",
    "\n",
    "zero_df = g3.compute_lineage_drivers(\n",
    "    lineages=[\"0\"], cluster_key=\"louvain_res_0.56\", clusters=driver_clusters)\n",
    "#six_df.to_csv ('../time_course_hamed/genes/term_8.csv', index = True, header=True)"
   ]
  },
  {
   "cell_type": "code",
   "execution_count": null,
   "id": "fae51e96-633f-4705-a8d7-ce1cdcc264fa",
   "metadata": {},
   "outputs": [],
   "source": [
    "# Filter for correlation over 0.3 and sort by Pval in ascending order\n",
    "filtered_sorted_0_df = zero_df[zero_df[\"0_corr\"] > 0.3].sort_values(by=\"0_pval\")\n",
    "\n",
    "\n",
    "filtered_sorted_0_df.to_csv ('filterd_term_0_cl.csv', index = True, header=True)\n",
    "\n",
    "filtered_sorted_0_df.head(20)"
   ]
  },
  {
   "cell_type": "code",
   "execution_count": null,
   "id": "39fbb69c-e5d6-400a-95ff-0bf3e5d3ab49",
   "metadata": {},
   "outputs": [],
   "source": [
    "zero_df.head(14)"
   ]
  },
  {
   "cell_type": "code",
   "execution_count": null,
   "id": "ab907710-f252-4a83-8746-1264abd40f4c",
   "metadata": {},
   "outputs": [],
   "source": [
    "driver_clusters = [\"1\", \"3\", \"4\",\"0\"]\n",
    "\n",
    "one_df = g3.compute_lineage_drivers(\n",
    "    lineages=[\"1_1, 1_2\"], cluster_key=\"louvain_res_0.56\", clusters=driver_clusters\n",
    ")\n",
    "\n",
    "#one_df.to_csv ('../cellrank/term_genes/term_1_with.csv', index = True, header=True)"
   ]
  },
  {
   "cell_type": "code",
   "execution_count": null,
   "id": "476978fd-b599-48e7-8b9e-66a05237770b",
   "metadata": {},
   "outputs": [],
   "source": [
    "# Filter for correlation over 0.3 and sort by Pval in ascending order\n",
    "filtered_sorted_1_df = one_df[one_df[\"1_1, 1_2_corr\"] > 0.3].sort_values(by=\"1_1, 1_2_pval\")\n",
    "\n",
    "\n",
    "filtered_sorted_1_df.to_csv ('filterd_term_1_cl.csv', index = True, header=True)\n",
    "\n",
    "filtered_sorted_1_df.head(20)"
   ]
  },
  {
   "cell_type": "code",
   "execution_count": null,
   "id": "a7969077-8d9c-498a-b32b-0479e360d200",
   "metadata": {},
   "outputs": [],
   "source": [
    "one_df.head(27)"
   ]
  },
  {
   "cell_type": "code",
   "execution_count": null,
   "id": "5860c459-84e1-4ee4-ba2a-3fc43e1691e3",
   "metadata": {},
   "outputs": [],
   "source": [
    "driver_clusters = [\"1\", \"3\", \"4\",\"0\"]\n",
    "\n",
    "three_df = g3.compute_lineage_drivers(\n",
    "    lineages=[\"3\"], cluster_key=\"louvain_res_0.56\", clusters=driver_clusters\n",
    ")\n",
    "\n",
    "#three_df.to_csv ('../cellrank/term_genes/term_3_with.csv', index = True, header=True)"
   ]
  },
  {
   "cell_type": "code",
   "execution_count": null,
   "id": "087aea94-a34c-4af4-a8a3-d71fb685f180",
   "metadata": {},
   "outputs": [],
   "source": [
    "# Filter for correlation over 0.3 and sort by Pval in ascending order\n",
    "filtered_sorted_3_df = three_df[three_df[\"3_corr\"] > 0.3].sort_values(by=\"3_pval\")\n",
    "\n",
    "\n",
    "filtered_sorted_3_df.to_csv ('filterd_term_3_cl.csv', index = True, header=True)\n",
    "\n",
    "filtered_sorted_3_df.head(20)"
   ]
  },
  {
   "cell_type": "code",
   "execution_count": null,
   "id": "6b400376-7f78-44f4-a711-30818d18a202",
   "metadata": {},
   "outputs": [],
   "source": [
    "three_df.head(17)"
   ]
  },
  {
   "cell_type": "code",
   "execution_count": null,
   "id": "3d02b162-1632-45d2-8f95-488b55ba80e2",
   "metadata": {},
   "outputs": [],
   "source": [
    "driver_clusters = [\"1\", \"3\", \"4\",\"0\"]\n",
    "\n",
    "four_df = g3.compute_lineage_drivers(\n",
    "    lineages=[\"4\"], cluster_key=\"louvain_res_0.56\", clusters=driver_clusters\n",
    ")\n",
    "\n",
    "#four_df.to_csv ('../cellrank/term_genes/term_4_with.csv', index = True, header=True)"
   ]
  },
  {
   "cell_type": "code",
   "execution_count": null,
   "id": "8210c5f4-240f-4135-b440-44f2ba146aab",
   "metadata": {},
   "outputs": [],
   "source": [
    "# Filter for correlation over 0.3 and sort by Pval in ascending order\n",
    "filtered_sorted_4_df = four_df[four_df[\"4_corr\"] > 0.3].sort_values(by=\"4_pval\")\n",
    "\n",
    "\n",
    "filtered_sorted_4_df.to_csv ('filterd_term_4_cl.csv', index = True, header=True)\n",
    "\n",
    "filtered_sorted_4_df.head(20)"
   ]
  },
  {
   "cell_type": "code",
   "execution_count": null,
   "id": "936d658d-11ce-4b3a-9928-08fd3e3bd2cb",
   "metadata": {},
   "outputs": [],
   "source": [
    "four_df.head(10)"
   ]
  },
  {
   "cell_type": "code",
   "execution_count": null,
   "id": "ce41ef5c-b7d9-449e-81f9-84a7fa7acee8",
   "metadata": {},
   "outputs": [],
   "source": [
    "adata_copy.obs[\"fate_probabilities_1\"] = g3.fate_probabilities[\"1_1, 1_2\"].X.flatten()\n",
    "\n",
    "sc.pl.embedding(\n",
    "    adata_copy,\n",
    "    basis=\"umap\",\n",
    "    color=[\"fate_probabilities_1\"] + list(one_df.index[:11]),\n",
    "    color_map=\"viridis\",\n",
    "    s=50,\n",
    "    ncols=3,\n",
    "    vmax=\"p96\",\n",
    ")"
   ]
  },
  {
   "cell_type": "code",
   "execution_count": null,
   "id": "12f3bc81-8421-482c-9168-fbee50889dda",
   "metadata": {},
   "outputs": [],
   "source": [
    "adata_copy.obs[\"fate_probabilities_3\"] = g3.fate_probabilities[\"3\"].X.flatten()\n",
    "\n",
    "sc.pl.embedding(\n",
    "    adata_copy,\n",
    "    basis=\"umap\",\n",
    "    color=[\"fate_probabilities_3\"] + list(three_df.index[:11]),\n",
    "    color_map=\"viridis\",\n",
    "    s=50,\n",
    "    ncols=3,\n",
    "    vmax=\"p96\",\n",
    ")"
   ]
  },
  {
   "cell_type": "code",
   "execution_count": null,
   "id": "bc2ccdf5-22e9-48f0-baad-b4888aff80b1",
   "metadata": {},
   "outputs": [],
   "source": [
    "adata_copy.obs[\"fate_probabilities_4\"] = g3.fate_probabilities[\"4\"].X.flatten()\n",
    "\n",
    "sc.pl.embedding(\n",
    "    adata_copy,\n",
    "    basis=\"umap\",\n",
    "    color=[\"fate_probabilities_4\"] + list(four_df.index[:11]),\n",
    "    color_map=\"viridis\",\n",
    "    s=50,\n",
    "    ncols=3,\n",
    "    vmax=\"p96\",\n",
    ")"
   ]
  },
  {
   "cell_type": "code",
   "execution_count": null,
   "id": "cdd3c9d9-bd5a-40b9-8d85-9d29dc4f901b",
   "metadata": {},
   "outputs": [],
   "source": [
    "adata_copy.obs[\"fate_probabilities_0\"] = g3.fate_probabilities[\"0\"].X.flatten()\n",
    "\n",
    "sc.pl.embedding(\n",
    "    adata_copy,\n",
    "    basis=\"umap\",\n",
    "    color=[\"fate_probabilities_0\"] + list(zero_df.index[:11]),\n",
    "    color_map=\"viridis\",\n",
    "    s=50,\n",
    "    ncols=3,\n",
    "    vmax=\"p96\",\n",
    ")"
   ]
  },
  {
   "cell_type": "code",
   "execution_count": null,
   "id": "f842e3ba-d004-43ef-9147-66fd7baf9baf",
   "metadata": {},
   "outputs": [],
   "source": [
    "model = cr.models.GAM(adata_copy, distribution='gaussian', link= 'identity')"
   ]
  },
  {
   "cell_type": "code",
   "execution_count": null,
   "id": "3d6f9487-7711-4c2b-9d99-59955c97c44b",
   "metadata": {},
   "outputs": [],
   "source": [
    "# plot heatmap\n",
    "cr.pl.heatmap(\n",
    "    adata_copy,\n",
    "    model=model,  # use the model from before\n",
    "    lineages=\"0\",\n",
    "    cluster_key=\"louvain_res_0.56\",\n",
    "    show_fate_probabilities=True,\n",
    "    genes=zero_df.head(37).index,\n",
    "    time_key=\"dpt_pseudotime\",\n",
    "    figsize=(12, 10),\n",
    "    show_all_genes=True,\n",
    "    weight_threshold=(1e-3, 1e-3),\n",
    ")"
   ]
  },
  {
   "cell_type": "code",
   "execution_count": null,
   "id": "c671b3bc-a08f-4574-90a5-9f95ac5732b5",
   "metadata": {},
   "outputs": [],
   "source": [
    "# plot heatmap\n",
    "cr.pl.heatmap(\n",
    "    adata_copy,\n",
    "    model=model,  # use the model from before\n",
    "    lineages=\"1_1, 1_2\",\n",
    "    cluster_key=\"louvain_res_0.56\",\n",
    "    show_fate_probabilities=True,\n",
    "    genes=one_df.head(37).index,\n",
    "    time_key=\"dpt_pseudotime\",\n",
    "    figsize=(12, 10),\n",
    "    show_all_genes=True,\n",
    "    weight_threshold=(1e-3, 1e-3),\n",
    ")"
   ]
  },
  {
   "cell_type": "code",
   "execution_count": null,
   "id": "0403bfdc-7a46-49c0-b40b-5c2d8ee399da",
   "metadata": {},
   "outputs": [],
   "source": [
    "# plot heatmap\n",
    "cr.pl.heatmap(\n",
    "    adata_copy,\n",
    "    model=model,  # use the model from before\n",
    "    lineages=\"3\",\n",
    "    cluster_key=\"louvain_res_0.56\",\n",
    "    show_fate_probabilities=True,\n",
    "    genes=three_df.head(37).index,\n",
    "    time_key=\"dpt_pseudotime\",\n",
    "    figsize=(12, 10),\n",
    "    show_all_genes=True,\n",
    "    weight_threshold=(1e-3, 1e-3),\n",
    ")"
   ]
  },
  {
   "cell_type": "code",
   "execution_count": null,
   "id": "95e1b86b-1cf7-48b5-bc1c-f3c9cecab93e",
   "metadata": {},
   "outputs": [],
   "source": [
    "# plot heatmap\n",
    "cr.pl.heatmap(\n",
    "    adata_copy,\n",
    "    model=model,  # use the model from before\n",
    "    lineages=\"4\",\n",
    "    cluster_key=\"louvain_res_0.56\",\n",
    "    show_fate_probabilities=True,\n",
    "    genes=four_df.head(37).index,\n",
    "    time_key=\"dpt_pseudotime\",\n",
    "    figsize=(12, 10),\n",
    "    show_all_genes=True,\n",
    "    weight_threshold=(1e-3, 1e-3),\n",
    ")"
   ]
  },
  {
   "cell_type": "code",
   "execution_count": null,
   "id": "346b44de-13ea-4107-9a3e-ec62c1ccd98b",
   "metadata": {},
   "outputs": [],
   "source": [
    "# Filter for correlation over 0.3 and sort by Pval in ascending order\n",
    "filtered_sorted_6_df = six_df[six_df[\"6_corr\"] > 0.3].sort_values(by=\"6_pval\")\n",
    "\n",
    "\n",
    "filtered_sorted_6_df.to_csv ('../time_course_hamed/genes/filterd_term_6_cl.csv', index = True, header=True)\n",
    "\n",
    "filtered_sorted_6_df.head(20)"
   ]
  },
  {
   "cell_type": "code",
   "execution_count": null,
   "id": "567dbde2-ca4e-472e-82b4-161121b2951c",
   "metadata": {},
   "outputs": [],
   "source": [
    "cr.pl.gene_trends(\n",
    "    adata_filtered,\n",
    "    model=model,\n",
    "    genes=[\"PTPRZ1\", \"BCAN\", \"C1orf61\", \"MALAT1\", \"KCNQ1OT1\", \"DST\", \"PCDH9\", \"PTN\", \"DSEL\", \"RFX4\", \"REV3L\", \"CCND2\", \"POU3F2\", \"NCAN\"],\n",
    "    same_plot=True,\n",
    "    ncols=3,\n",
    "    time_key=\"dpt_pseudotime\",\n",
    "    hide_cells=True,\n",
    "    weight_threshold=(1e-3, 1e-3),\n",
    ")"
   ]
  },
  {
   "cell_type": "code",
   "execution_count": null,
   "id": "48a41070-5565-48c7-b921-fd30ab6d91da",
   "metadata": {},
   "outputs": [],
   "source": [
    "import matplotlib.pyplot as plt"
   ]
  },
  {
   "cell_type": "code",
   "execution_count": null,
   "id": "68a89955-d245-464c-aa78-f4bcb3a5f52e",
   "metadata": {},
   "outputs": [],
   "source": [
    "# Load the gene signature file\n",
    "gene_signatures = pd.read_csv('metamodules.txt',sep=\"\\t\")\n",
    "\n",
    "# Define the gene sets for each meta-module\n",
    "# MES2    MES1    AC      OPC     NPC1_sig        NPC2_sig        G1/S    G2/M\n",
    "gene_sets = {\n",
    "    'MES1': gene_signatures['MES1'].dropna().tolist(),\n",
    "    'MES2': gene_signatures['MES2'].dropna().tolist(),\n",
    "    'NPC1': gene_signatures['NPC1_sig'].dropna().tolist(),\n",
    "    'NPC2': gene_signatures['NPC2_sig'].dropna().tolist(),\n",
    "    'AC': gene_signatures['AC'].dropna().tolist(),\n",
    "    'OPC': gene_signatures['OPC'].dropna().tolist(),\n",
    "    'G1S': gene_signatures['G1/S'].dropna().tolist(),\n",
    "    'G2M': gene_signatures['G2/M'].dropna().tolist()\n",
    "}\n",
    "\n",
    "\n",
    "var_names_list =adata_copy.var_names.tolist()"
   ]
  },
  {
   "cell_type": "code",
   "execution_count": null,
   "id": "f03c9b38-6621-4b78-bde3-a2f79827994a",
   "metadata": {},
   "outputs": [],
   "source": [
    "adata_copy"
   ]
  },
  {
   "cell_type": "code",
   "execution_count": null,
   "id": "9b90ae7e-1aed-4108-9724-faef041f55a0",
   "metadata": {},
   "outputs": [],
   "source": [
    "# Calculate single-cell gene signature scores\n",
    "def calculate_signature_scores(adata_copy, gene_sets):\n",
    "    scores = {}\n",
    "    for key, genes in gene_sets.items():\n",
    "        # Filter genes to include only those present in adata.var_names\n",
    "        valid_genes = [gene for gene in genes if gene in var_names_list]\n",
    "        \n",
    "        if not valid_genes:\n",
    "            continue\n",
    "        \n",
    "        # Calculate average relative expression for the valid gene set\n",
    "        avg_expr = adata_copy[:, valid_genes].X.mean(axis=1)\n",
    "        \n",
    "        # Create control gene set\n",
    "        control_genes = []\n",
    "        for gene in valid_genes:\n",
    "            expr_level = adata_copy[:, gene].X.mean()\n",
    "            bin_genes_bool = np.ravel((adata_copy.X.mean(axis=0) > expr_level - 0.05) & (adata_copy.X.mean(axis=0) < expr_level + 0.05))\n",
    "            bin_genes = np.array(var_names_list)[np.array(bin_genes_bool)]\n",
    "            sample_size = min(100, len(bin_genes))\n",
    "            control_genes.extend(np.random.choice(bin_genes, sample_size, replace=False))\n",
    "            #control_genes.extend(np.random.choice(bin_genes, 100, replace=True))\n",
    "        \n",
    "        # Calculate average relative expression for the control gene set\n",
    "        avg_control_expr = adata_copy[:, control_genes].X.mean(axis=1)\n",
    "        \n",
    "        # Calculate signature score\n",
    "        scores[key] = avg_expr - avg_control_expr\n",
    "    \n",
    "    return scores\n"
   ]
  },
  {
   "cell_type": "code",
   "execution_count": null,
   "id": "32b2fc69-fa52-4092-82f2-88cf33a70d4d",
   "metadata": {},
   "outputs": [],
   "source": [
    "signature_scores = calculate_signature_scores(adata_copy, gene_sets)\n",
    "\n"
   ]
  },
  {
   "cell_type": "code",
   "execution_count": null,
   "id": "0099c0a1-62e7-4185-9f6f-38df879d65a9",
   "metadata": {},
   "outputs": [],
   "source": [
    "signature_scores"
   ]
  },
  {
   "cell_type": "code",
   "execution_count": null,
   "id": "530cc513-6c57-4252-bbd5-98c3b3d2f0c3",
   "metadata": {},
   "outputs": [],
   "source": [
    "# Assign cells to meta-modules and their hybrids\n",
    "def assign_meta_modules(signature_scores):\n",
    "    meta_modules = ['MES', 'NPC', 'AC', 'OPC']\n",
    "    assignments = []\n",
    "    both_scores = []\n",
    "    for i in range(len(signature_scores['MES1'])):\n",
    "        scores = {key: signature_scores[key][i] for key in signature_scores}\n",
    "        # Collapse MES1 and MES2 into MES, and NPC1 and NPC2 into NPC\n",
    "        # Create a new dictionary to store the updated keys\n",
    "        # Create a new dictionary to store the updated keys\n",
    "        updated_scores = {}\n",
    "        \n",
    "        # Combine values for MES and NPC keys\n",
    "        mes_total = 0\n",
    "        npc_total = 0\n",
    "        \n",
    "        for key, value in scores.items():\n",
    "            if key in ['MES1', 'MES2']:\n",
    "                mes_total += value\n",
    "            elif key in ['NPC1', 'NPC2']:\n",
    "                npc_total += value\n",
    "            else:\n",
    "                updated_scores[key] = value\n",
    "        \n",
    "        # Add the combined MES and NPC values to the new dictionary\n",
    "        updated_scores['MES'] = mes_total\n",
    "        updated_scores['NPC'] = npc_total\n",
    "        scores = updated_scores\n",
    "        # Assign to the highest scoring meta-module\n",
    "        primary_module = max(scores, key=scores.get)\n",
    "        # Check for hybrid assignment\n",
    "        hybrid_module = None\n",
    "        second_highest_score = sorted(scores.values(), reverse=True)[1]\n",
    "        \n",
    "        #if second_highest_score > 1 or second_highest_score > np.percentile([scores[key] for key in meta_modules if key != primary_module], 10) or (second_highest_score - sorted(scores.values(), reverse=True)[2]) >= 0.3:\n",
    "         #   hybrid_module = [key for key in scores if scores[key] == second_highest_score][0]\n",
    "        #if second_highest_score > 1:\n",
    "         #   hybrid_module = [key for key in scores if scores[key] == second_highest_score][0]\n",
    "\n",
    "        # Higher 0.3\n",
    "        if second_highest_score - sorted(scores.values(), reverse=True)[2] >= 0.3:\n",
    "            hybrid_module = [key for key in scores if scores[key] == second_highest_score][0]\n",
    "        # percentile\n",
    "        #if second_highest_score > np.percentile([scores[key] for key in meta_modules if key != primary_module], 10):\n",
    "            #hybrid_module = [key for key in scores if scores[key] == second_highest_score][0]\n",
    "            \n",
    "        assignments.append((primary_module, hybrid_module))\n",
    "        both_scores.append((scores, second_highest_score))\n",
    "    \n",
    "    return assignments,both_scores\n",
    "    "
   ]
  },
  {
   "cell_type": "code",
   "execution_count": null,
   "id": "1dc9d97d-47cf-47fe-8803-0a5c4d3fbee4",
   "metadata": {},
   "outputs": [],
   "source": [
    "assignments,both_scores = assign_meta_modules(signature_scores)"
   ]
  },
  {
   "cell_type": "code",
   "execution_count": null,
   "id": "725b7672-a08d-424b-8e68-eaee611df212",
   "metadata": {},
   "outputs": [],
   "source": [
    "# Produce a plot of expected number of hybrids\n",
    "def plot_expected_hybrids(assignments):\n",
    "    hybrid_counts = {module: 0 for module in ['MES', 'NPC', 'AC', 'OPC','G1S','G2M']}\n",
    "    \n",
    "    for primary, hybrid in assignments:\n",
    "        if hybrid:\n",
    "            hybrid_counts[primary] += 1\n",
    "    \n",
    "    expected_hybrid_counts = {module: [] for module in ['MES', 'NPC', 'AC', 'OPC','G1S','G2M']}\n",
    "    \n",
    "    for _ in range(100):\n",
    "        shuffled_assignments = np.random.permutation(assignments)\n",
    "        shuffled_hybrid_counts = {module: 0 for module in ['MES', 'NPC', 'AC', 'OPC','G1S','G2M']}\n",
    "        \n",
    "        for primary, hybrid in shuffled_assignments:\n",
    "            if hybrid:\n",
    "                shuffled_hybrid_counts[primary] += 1\n",
    "        \n",
    "        for module in shuffled_hybrid_counts:\n",
    "            expected_hybrid_counts[module].append(shuffled_hybrid_counts[module])\n",
    "    \n",
    "    means = {module: np.mean(expected_hybrid_counts[module]) for module in expected_hybrid_counts}\n",
    "    stds = {module: np.std(expected_hybrid_counts[module]) for module in expected_hybrid_counts}\n",
    "    \n",
    "    fig, ax = plt.subplots()\n",
    "    \n",
    "    ax.bar(hybrid_counts.keys(), hybrid_counts.values(), label='Observed')\n",
    "    ax.errorbar(means.keys(), means.values(), yerr=stds.values(), fmt='o', label='Expected')\n",
    "    \n",
    "    ax.set_xlabel('Meta-module')\n",
    "    ax.set_ylabel('Number of hybrids')\n",
    "    ax.legend()\n",
    "    \n",
    "    plt.show()\n",
    "\n"
   ]
  },
  {
   "cell_type": "code",
   "execution_count": null,
   "id": "647661dc-2a7e-4150-ac64-61f7ec9ccc51",
   "metadata": {},
   "outputs": [],
   "source": [
    "plot_expected_hybrids(assignments)"
   ]
  },
  {
   "cell_type": "code",
   "execution_count": null,
   "id": "3fbe1664-241b-4bb1-8695-ee5c1d8fdbc4",
   "metadata": {},
   "outputs": [],
   "source": [
    "hybrid_list = assignments\n",
    "shuffled_assignments = np.random.permutation(assignments)\n",
    "\n",
    "# Filter the list to include only hybrid combinations\n",
    "hybrids = [tuple(sorted(item)) for item in hybrid_list if item[1] != None]\n",
    "\n",
    "# Count the occurrences of each hybrid combination\n",
    "hybrid_counts = Counter(hybrids)\n",
    "\n",
    "# Calculate the total number of elements in the list\n",
    "total_elements = len(hybrid_list)\n",
    "\n",
    "# Calculate the percentage of each hybrid combination\n",
    "hybrid_percentages = {k: (v / total_elements) * 100 for k, v in hybrid_counts.items()}\n",
    "\n",
    "# Convert tuple keys to strings for plotting\n",
    "hybrid_percentages_str = {f\"{k},{k}\": v for k, v in hybrid_percentages.items()}\n",
    "\n",
    "# Create a bar plot\n",
    "fig, ax = plt.subplots(figsize=(12, 8))\n",
    "ax.bar(hybrid_percentages_str.keys(), hybrid_percentages_str.values())\n",
    "\n",
    "# Set labels and title\n",
    "ax.set_xlabel('Hybrid Combinations')\n",
    "ax.set_ylabel('Percentage (%)')\n",
    "ax.set_title('Percentage of Hybrid Combinations')\n",
    "\n",
    "# Rotate x-axis labels for better readability\n",
    "plt.xticks(rotation=45, ha='right')\n",
    "\n",
    "# Show the plot\n",
    "plt.tight_layout()\n",
    "plt.show()\n"
   ]
  },
  {
   "cell_type": "code",
   "execution_count": null,
   "id": "bae09b60-a6d3-46bc-a74e-ff3ba0f9b7df",
   "metadata": {},
   "outputs": [],
   "source": [
    "expected_hybrid_counts = {module: [] for module in ['MES', 'NPC', 'AC', 'OPC','G1S','G2M']}\n",
    "for _ in range(100):\n",
    "    shuffled_assignments = np.random.permutation(assignments)\n",
    "    shuffled_hybrid_counts = {module: 0 for module in ['MES', 'NPC', 'AC', 'OPC','G1S','G2M']}\n",
    "    \n",
    "    for primary, hybrid in shuffled_assignments:\n",
    "        if hybrid:\n",
    "            shuffled_hybrid_counts[primary] += 1\n",
    "    \n",
    "    for module in shuffled_hybrid_counts:\n",
    "        expected_hybrid_counts[module].append(shuffled_hybrid_counts[module])\n",
    "\n",
    "means = {module: np.mean(expected_hybrid_counts[module]) for module in expected_hybrid_counts}\n",
    "stds = {module: np.std(expected_hybrid_counts[module]) for module in expected_hybrid_counts}\n"
   ]
  },
  {
   "cell_type": "code",
   "execution_count": null,
   "id": "5b3b9608-958d-4d41-9c44-7c015d0e3f46",
   "metadata": {},
   "outputs": [],
   "source": [
    "means\n",
    "stds"
   ]
  },
  {
   "cell_type": "code",
   "execution_count": null,
   "id": "b704cc1b-0457-4982-b908-82e77596e58e",
   "metadata": {},
   "outputs": [],
   "source": [
    "import matplotlib.pyplot as plt\n",
    "from collections import Counter\n",
    "\n",
    "\n",
    "hybrid_list = assignments\n",
    "shuffled_assignments = np.random.permutation(assignments)\n",
    "\n",
    "    \n",
    "def process_hybrid_list(hybrid_list):\n",
    "    # Filter the list to include only hybrid combinations and sort the tuples\n",
    "    filtered_list = [tuple(sorted(item)) for item in hybrid_list if item[1] != None]\n",
    "    \n",
    "    # Count the occurrences of each hybrid combination\n",
    "    hybrid_counts = Counter(filtered_list)\n",
    "    \n",
    "    # Calculate the total number of elements in the list\n",
    "    total_elements = len(hybrid_list)\n",
    "    \n",
    "    # Calculate the percentage of each hybrid combination\n",
    "    hybrid_percentages = {k: (v / total_elements) * 100 for k, v in hybrid_counts.items()}\n",
    "    \n",
    "    return hybrid_percentages\n",
    "\n",
    "# Process both lists\n",
    "percentages_list = process_hybrid_list(hybrid_list)\n",
    "percentages_shuffles = process_hybrid_list(shuffled_assignments)\n",
    "\n",
    "# Convert tuple keys to strings for plotting\n",
    "percentages_list_str = {f\"{k},{k}\": v for k, v in percentages_list.items()}\n",
    "percentages_shuffles_str = {f\"{k},{k}\": v for k, v in percentages_shuffles.items()}\n",
    "\n",
    "# Create a bar plot\n",
    "fig, ax = plt.subplots(figsize=(12, 8))\n",
    "\n",
    "# Define the width of the bars\n",
    "bar_width = 0.35\n",
    "\n",
    "# Define the positions of the bars\n",
    "index = range(len(percentages_list_str))\n",
    "\n",
    "# Plot the bars for the first list\n",
    "bars1 = ax.bar(index, percentages_list_str.values(), bar_width, label='Observed', color='blue')\n",
    "\n",
    "# Plot the bars for the second list, offset by bar_width\n",
    "bars2 = ax.bar([i + bar_width for i in index], percentages_shuffles_str.values(), bar_width, label='Expected', color='orange')\n",
    "\n",
    "# Set labels and title\n",
    "ax.set_xlabel('Hybrid Combinations')\n",
    "ax.set_ylabel('Percentage (%)')\n",
    "ax.set_title('Percentage of Hybrid Combinations')\n",
    "\n",
    "# Set the x-ticks to be in the middle of the grouped bars\n",
    "ax.set_xticks([i + bar_width / 2 for i in index])\n",
    "ax.set_xticklabels(percentages_list_str.keys(), rotation=45, ha='right')\n",
    "\n",
    "# Add a legend\n",
    "ax.legend()\n",
    "\n",
    "\n",
    "# Show the plot\n",
    "plt.tight_layout()\n",
    "plt.show()\n"
   ]
  },
  {
   "cell_type": "code",
   "execution_count": null,
   "id": "c1ae0a82-9f45-4186-8016-3f25057400ac",
   "metadata": {},
   "outputs": [],
   "source": [
    "shuffled_assignments = np.random.permutation(assignments)\n",
    "shuffled_assignments"
   ]
  },
  {
   "cell_type": "code",
   "execution_count": null,
   "id": "27e02ef7-ed4b-4a3c-a159-07a7fde364f8",
   "metadata": {},
   "outputs": [],
   "source": [
    "hybrid_list = [\n",
    "    ('MES', 'NPC'),\n",
    "    ('NPC', 'None'),\n",
    "    ('NPC', 'None'),\n",
    "    ('MES', 'None'),\n",
    "    ('NPC', 'None'),\n",
    "    ('G1S', 'MES'),\n",
    "    ('AC', 'MES'),\n",
    "    ('NPC', 'None'),\n",
    "    ('NPC', 'None'),\n",
    "    ('MES', 'NPC'),\n",
    "    ('MES', 'None'),\n",
    "    # Add more elements as needed\n",
    "]\n",
    "\n",
    "# Filter the list to include only hybrid combinations\n",
    "hybrids = [item for item in hybrid_list if item != 'None']\n",
    "\n",
    "# Count the occurrences of each hybrid combination\n",
    "hybrid_counts = Counter(hybrids)"
   ]
  },
  {
   "cell_type": "code",
   "execution_count": null,
   "id": "8494e4f7-6aea-4a2b-85aa-9b0839ba2dc3",
   "metadata": {},
   "outputs": [],
   "source": [
    "filtered_hybrids = [item for item in hybrid_list if item[1] != 'None']\n",
    "filtered_hybrids = [item for item in hybrid_list if item[1] != 'None']\n",
    "print(filtered_hybrids )"
   ]
  },
  {
   "cell_type": "code",
   "execution_count": null,
   "id": "ebe73c1c-aaf1-4fc0-b263-88f2b5147627",
   "metadata": {},
   "outputs": [],
   "source": [
    "hybrid_list = [\n",
    "    ('MES', 'NPC'),\n",
    "    ('NPC', 'None'),\n",
    "    ('NPC', 'None'),\n",
    "    ('MES', 'None'),\n",
    "    ('NPC', 'None'),\n",
    "    ('G1S', 'MES'),\n",
    "    ('AC', 'MES'),\n",
    "    ('NPC', 'None'),\n",
    "    ('NPC', 'None'),\n",
    "    ('MES', 'NPC'),\n",
    "    ('MES', 'None'),\n",
    "]\n",
    "\n",
    "filtered_list = [item for item in hybrid_list if item[1] != 'None']\n",
    "print(filtered_list)"
   ]
  },
  {
   "cell_type": "code",
   "execution_count": null,
   "id": "19eae533-fc76-4549-9a9d-071a2fab5d94",
   "metadata": {},
   "outputs": [],
   "source": [
    "# Create a new dictionary to store the updated keys\n",
    "updated_signature_scores = {}\n",
    "\n",
    "# Calculate the element-wise maximum for MES and NPC\n",
    "mes_max = np.maximum(signature_scores.get('MES1', np.zeros_like(signature_scores['MES1'])), signature_scores.get('MES2', np.zeros_like(signature_scores['MES2'])))\n",
    "npc_max = np.maximum(signature_scores.get('NPC1', np.zeros_like(signature_scores['NPC1'])), signature_scores.get('NPC2', np.zeros_like(signature_scores['NPC2'])))\n",
    "\n",
    "# Add the new MES and NPC to the updated dictionary\n",
    "updated_signature_scores['MES'] = mes_max\n",
    "updated_signature_scores['NPC'] = npc_max\n",
    "\n",
    "# Add the other keys to the updated dictionary\n",
    "for key, value in signature_scores.items():\n",
    "    if key not in ['MES1', 'MES2', 'NPC1', 'NPC2']:\n",
    "        updated_signature_scores[key] = value\n",
    "\n"
   ]
  },
  {
   "cell_type": "code",
   "execution_count": null,
   "id": "e22f14b6-0c09-47af-9355-60342ac73ea6",
   "metadata": {},
   "outputs": [],
   "source": [
    "updated_signature_scores\n",
    "\n"
   ]
  },
  {
   "cell_type": "code",
   "execution_count": null,
   "id": "86fe85e6-9dd1-4443-a1e7-c8d578a0246b",
   "metadata": {},
   "outputs": [],
   "source": [
    "def generate_2d_representation(signature_scores1):\n",
    "    D_values = []\n",
    "    x_values = []\n",
    "    \n",
    "    for i in range(len(signature_scores1['MES'])):\n",
    "        SCopc_npc = max(signature_scores1['OPC'][i], signature_scores1['NPC'][i])\n",
    "        SCac_mes = max(signature_scores1['AC'][i], signature_scores1['MES'][i])\n",
    "        \n",
    "        D = SCopc_npc - SCac_mes\n",
    "        D_values.append(D)\n",
    "        \n",
    "        if D > 0:\n",
    "            x_diff = signature_scores1['OPC'][i] - signature_scores1['NPC'][i]\n",
    "        else:\n",
    "            x_diff = signature_scores1['AC'][i] - signature_scores1['MES'][i]\n",
    "        \n",
    "        # Apply log2 to the absolute value and keep the sign\n",
    "        x_values.append(np.sign(x_diff) * np.log2(abs(x_diff) + 1))\n",
    "    \n",
    "    fig, ax = plt.subplots(figsize=(12, 8))\n",
    "    \n",
    "    ax.scatter(x_values, D_values)\n",
    "    \n",
    "    ax.set_xlabel('log2(|SCopc – SCnpc|+1) or log2(|SCac–SCmes|)')\n",
    "    ax.set_ylabel('D value')\n",
    "    \n",
    "    # Set the plot axes to be y -1,1 and x -1,1\n",
    "    ax.set_xlim([-1, 1])\n",
    "    ax.set_ylim([-1, 1])\n",
    "\n",
    "    # Add dashed black lines at x=0 and y=0\n",
    "    ax.axhline(0, color='black', linestyle='--')\n",
    "    ax.axvline(0, color='black', linestyle='--')\n",
    "\n",
    "    # Add text labels to the edges of the four regions\n",
    "    ax.text(-0.9, 0.9, 'NPC-like', fontsize=12, ha='center', va='center')\n",
    "    ax.text(0.9, 0.9, 'OPC-like', fontsize=12, ha='center', va='center')\n",
    "    ax.text(-0.9, -0.9, 'MES-like', fontsize=12, ha='center', va='center')\n",
    "    ax.text(0.9, -0.9, 'AC-like', fontsize=12, ha='center', va='center')\n",
    "    \n",
    "    plt.show()\n"
   ]
  },
  {
   "cell_type": "code",
   "execution_count": null,
   "id": "850ab810-97d5-42e8-ab08-4cbb11e641f0",
   "metadata": {},
   "outputs": [],
   "source": [
    "def generate_2d_representation(signature_scores1, adata_copy, color_by, distance = 0.25):\n",
    "    D_values = []\n",
    "    x_values = []\n",
    "    \n",
    "    for i in range(len(signature_scores1['MES'])):\n",
    "        SCopc_npc = max(signature_scores1['OPC'][i], signature_scores1['NPC'][i])\n",
    "        SCac_mes = max(signature_scores1['AC'][i], signature_scores1['MES'][i])\n",
    "        \n",
    "        D = SCopc_npc - SCac_mes\n",
    "        D_values.append(D)\n",
    "        \n",
    "        if D > 0:\n",
    "            x_diff = signature_scores1['NPC'][i] - signature_scores1['OPC'][i]\n",
    "        else:\n",
    "            x_diff = signature_scores1['MES'][i] - signature_scores1['AC'][i]\n",
    "        \n",
    "        # Apply log2 to the absolute value and keep the sign\n",
    "        x_values.append(np.sign(x_diff) * np.log2(abs(x_diff) + 1))\n",
    "    \n",
    "    # Convert lists to numpy arrays\n",
    "    D_values = np.array(D_values)\n",
    "    x_values = np.array(x_values)\n",
    "    \n",
    "    # Identify cells in the center of the plot\n",
    "    center_mask = (D_values >= -1*distance) & (D_values <= distance) & (x_values >= -1*distance) & (x_values <= distance)\n",
    "    center_cells = adata_copy.obs[center_mask]\n",
    "    \n",
    "    fig, ax = plt.subplots(figsize=(10, 6))\n",
    "    \n",
    "    if pd.api.types.is_numeric_dtype(adata_copy.obs[color_by]):\n",
    "        # Use a continuous palette for numerical data\n",
    "        scatter = ax.scatter(x_values, D_values, c=adata_copy.obs[color_by], cmap='viridis', alpha=0.7)\n",
    "        plt.colorbar(scatter, ax=ax, label=color_by)\n",
    "    else:\n",
    "        # Extract the color palette used by Scanpy for categorical data\n",
    "        sc.pl.umap(adata_copy, color=color_by, show=False)\n",
    "        cluster_colors = adata_copy.uns[f'{color_by}_colors']\n",
    "        \n",
    "        # Map categorical data to colors\n",
    "        color_map = {category: color for category, color in zip(adata_copy.obs[color_by].cat.categories, cluster_colors)}\n",
    "        colors = adata_copy.obs[color_by].map(color_map)\n",
    "        \n",
    "        scatter = ax.scatter(x_values, D_values, c=colors, alpha=0.7)\n",
    "    \n",
    "    # Highlight center cells\n",
    "    #ax.scatter(x_values[center_mask], D_values[center_mask], edgecolor='red', facecolor='none', s=100, label='Center Cells')\n",
    "    \n",
    "    ax.set_xlabel('log2(|SCopc – SCnpc|+1) or log2(|SCac–SCmes|)')\n",
    "    ax.set_ylabel('D value')\n",
    "    \n",
    "    # Set the plot axes to be y -1,1 and x -1,1\n",
    "    ax.set_xlim([-4, 4])\n",
    "    ax.set_ylim([-4, 4])\n",
    "\n",
    "    # Add dashed black lines at x=0 and y=0\n",
    "    ax.axhline(0, color='black', linestyle='--')\n",
    "    ax.axvline(0, color='black', linestyle='--')\n",
    "\n",
    "    # Add text labels to the edges of the four regions\n",
    "    ax.text(-2.7, 2.7, 'OPC-like', fontsize=12, ha='center', va='center')\n",
    "    ax.text(2.7, 2.7, 'NPC-like', fontsize=12, ha='center', va='center')\n",
    "    ax.text(-2.7, -2.7, 'AC-like', fontsize=12, ha='center', va='center')\n",
    "    ax.text(2.7, -2.7, 'MES-like', fontsize=12, ha='center', va='center')\n",
    "    \n",
    "    ax.legend()\n",
    "    plt.show()\n",
    "    \n",
    "    return center_cells\n",
    "\n",
    "\n",
    "center_cells = generate_2d_representation(updated_signature_scores, adata_copy, color_by='louvain_res_0.56',\n",
    "                                         distance=0.10)\n",
    "#print(\"Center cells:\", center_cells)\n"
   ]
  },
  {
   "cell_type": "code",
   "execution_count": null,
   "id": "65379149-3ee8-4d8f-bf24-624187c1f64f",
   "metadata": {},
   "outputs": [],
   "source": [
    "# Highlight center cells on UMAP plot\n",
    "adata_copy.obs['center_cells'] = 'Other'\n",
    "adata_copy.obs.loc[center_cells.index, 'center_cells'] = 'Center'\n",
    "sc.pl.umap(adata_copy, color='center_cells', groups=['Center'], palette=['red', 'lightgrey'])\n"
   ]
  },
  {
   "cell_type": "code",
   "execution_count": null,
   "id": "7e55641e-926f-40d8-9c01-ce28521ee7f8",
   "metadata": {},
   "outputs": [],
   "source": [
    "generate_2d_representation(updated_signature_scores, adata_copy, color_by='phase')"
   ]
  },
  {
   "cell_type": "code",
   "execution_count": null,
   "id": "4729d72e-f131-4152-af2c-f22546307a67",
   "metadata": {},
   "outputs": [],
   "source": [
    "def calculate_centroids(signature_scores1, adata_copy, cluster_key):\n",
    "    D_values = []\n",
    "    x_values = []\n",
    "    \n",
    "    for i in range(len(signature_scores1['MES'])):\n",
    "        SCopc_npc = max(signature_scores1['OPC'][i], signature_scores1['NPC'][i])\n",
    "        SCac_mes = max(signature_scores1['AC'][i], signature_scores1['MES'][i])\n",
    "        \n",
    "        D = SCopc_npc - SCac_mes\n",
    "        D_values.append(D)\n",
    "        \n",
    "        if D > 0:\n",
    "            x_diff = signature_scores1['OPC'][i] - signature_scores1['NPC'][i]\n",
    "        else:\n",
    "            x_diff = signature_scores1['AC'][i] - signature_scores1['MES'][i]\n",
    "        \n",
    "        # Apply log2 to the absolute value and keep the sign\n",
    "        x_values.append(np.sign(x_diff) * np.log2(abs(x_diff) + 1))\n",
    "    \n",
    "\n",
    "    # Convert lists to numpy arrays and flatten them\n",
    "    D_values = np.array(D_values).flatten()\n",
    "    x_values = np.array(x_values).flatten()\n",
    "    \n",
    "    # Ensure the lengths match\n",
    "    if len(x_values) != len(adata_copy.obs[cluster_key].values) or len(D_values) != len(adata_copy.obs[cluster_key].values):\n",
    "        raise ValueError(\"The lengths of x_values, D_values, and cluster labels must match.\")\n",
    "    # Create a DataFrame with the cluster labels and the calculated X, Y values\n",
    "    df = pd.DataFrame({\n",
    "        'cluster': adata_copy.obs[cluster_key].values,\n",
    "        'X': x_values,\n",
    "        'Y': D_values\n",
    "    })\n",
    "    \n",
    "    # Calculate the centroid for each cluster\n",
    "    centroids = df.groupby('cluster').mean()\n",
    "    \n",
    "    return centroids\n",
    "\n",
    "\n",
    "centroids = calculate_centroids(updated_signature_scores, adata_copy, cluster_key='louvain_res_0.56')\n",
    "print(\"Centroids for each cluster:\")\n",
    "print(centroids)\n"
   ]
  },
  {
   "cell_type": "code",
   "execution_count": null,
   "id": "fd27094e-5622-432e-81d8-983065a65f7f",
   "metadata": {},
   "outputs": [],
   "source": [
    "def plot_centroids(centroids):\n",
    "    fig, ax = plt.subplots(figsize=(12, 8))\n",
    "    \n",
    "    # Plot the centroids\n",
    "    ax.scatter(centroids['X'], centroids['Y'], color='blue', s=200)\n",
    "    \n",
    "    # Annotate the centroids with cluster labels\n",
    "    for cluster, row in centroids.iterrows():\n",
    "        ax.text(row['X'], row['Y'], cluster, fontsize=12, ha='center', va='center', color='red')\n",
    "    \n",
    "    ax.set_xlabel('log2(|SCopc – SCnpc|+1) or log2(|SCac–SCmes|)')\n",
    "    ax.set_ylabel('D value')\n",
    "    \n",
    "    # Set the plot axes to be y -1,1 and x -1,1\n",
    "    ax.set_xlim([-3, 3])\n",
    "    ax.set_ylim([-3, 3])\n",
    "\n",
    "    # Add dashed black lines at x=0 and y=0\n",
    "    ax.axhline(0, color='black', linestyle='--')\n",
    "    ax.axvline(0, color='black', linestyle='--')\n",
    "\n",
    "    plt.show()\n",
    "\n",
    "\n",
    "plot_centroids(centroids)\n"
   ]
  },
  {
   "cell_type": "code",
   "execution_count": null,
   "id": "f8800d5d-46ed-4f97-bf8e-a0c0226e7643",
   "metadata": {},
   "outputs": [],
   "source": [
    "generate_2d_representation(updated_signature_scores, adata_copy, color_by='MES1')\n"
   ]
  },
  {
   "cell_type": "code",
   "execution_count": null,
   "id": "c0862eaf-c5a0-44a5-bc88-00d84f8da1ba",
   "metadata": {},
   "outputs": [],
   "source": [
    "generate_2d_representation(updated_signature_scores, adata_copy, color_by='AC')\n"
   ]
  },
  {
   "cell_type": "code",
   "execution_count": null,
   "id": "843441be-dac8-4d2a-89eb-5eafd3b29ca9",
   "metadata": {},
   "outputs": [],
   "source": [
    "generate_2d_representation(updated_signature_scores, adata_copy, color_by='OPC')\n"
   ]
  },
  {
   "cell_type": "code",
   "execution_count": null,
   "id": "1d77a469-241b-47d8-b9fd-a5147085e22e",
   "metadata": {},
   "outputs": [],
   "source": [
    "generate_2d_representation(updated_signature_scores, adata_copy, color_by='NPC1_sig')\n"
   ]
  },
  {
   "cell_type": "code",
   "execution_count": null,
   "id": "980e5f2b-c6ab-44db-82eb-a54607be4a2a",
   "metadata": {},
   "outputs": [],
   "source": [
    "generate_2d_representation(updated_signature_scores, adata_copy, color_by='NPC2_sig')"
   ]
  },
  {
   "cell_type": "code",
   "execution_count": null,
   "id": "9ee58d4b-132c-48db-88b6-9adc4d8f3900",
   "metadata": {},
   "outputs": [],
   "source": [
    "generate_2d_representation(updated_signature_scores, adata_copy, color_by='G1/S')"
   ]
  },
  {
   "cell_type": "code",
   "execution_count": null,
   "id": "e5cd179b-2361-47c9-90b4-ed75cd7e99aa",
   "metadata": {},
   "outputs": [],
   "source": [
    "generate_2d_representation(updated_signature_scores, adata_copy, color_by='G2/M')"
   ]
  },
  {
   "cell_type": "code",
   "execution_count": null,
   "id": "e4404310-bd57-4f19-a8ed-f8bdda9e4885",
   "metadata": {},
   "outputs": [],
   "source": [
    "generate_2d_representation(updated_signature_scores, adata_copy, color_by='Pop1_score')"
   ]
  },
  {
   "cell_type": "code",
   "execution_count": null,
   "id": "da7b6998-9e9f-4a9f-ad6b-4ee90a91ecf9",
   "metadata": {},
   "outputs": [],
   "source": [
    "generate_2d_representation(updated_signature_scores, adata_copy, color_by='Pop2_score')"
   ]
  },
  {
   "cell_type": "code",
   "execution_count": null,
   "id": "45accf96-0356-48cc-bae1-e6a4df2845bd",
   "metadata": {},
   "outputs": [],
   "source": [
    "generate_2d_representation(updated_signature_scores, adata_copy, color_by='Pop3_score')"
   ]
  },
  {
   "cell_type": "code",
   "execution_count": null,
   "id": "9e809967-1d05-43cd-96a3-65328c8d2183",
   "metadata": {},
   "outputs": [],
   "source": [
    "generate_2d_representation(updated_signature_scores, adata_copy, color_by='Pop4_score')"
   ]
  },
  {
   "cell_type": "code",
   "execution_count": null,
   "id": "92df3a28-8c28-48a6-acb8-4ff1023f0695",
   "metadata": {},
   "outputs": [],
   "source": [
    "generate_2d_representation(updated_signature_scores, adata_copy, color_by='section')"
   ]
  },
  {
   "cell_type": "code",
   "execution_count": null,
   "id": "08ce9009-e4fb-4bc6-b6f1-970e6d8dccb6",
   "metadata": {},
   "outputs": [],
   "source": [
    "generate_2d_representation(updated_signature_scores, adata_copy, color_by='plasticity_status')"
   ]
  }
 ],
 "metadata": {
  "kernelspec": {
   "display_name": "Python 3 (ipykernel)",
   "language": "python",
   "name": "python3"
  },
  "language_info": {
   "codemirror_mode": {
    "name": "ipython",
    "version": 3
   },
   "file_extension": ".py",
   "mimetype": "text/x-python",
   "name": "python",
   "nbconvert_exporter": "python",
   "pygments_lexer": "ipython3",
   "version": "3.11.9"
  }
 },
 "nbformat": 4,
 "nbformat_minor": 5
}
