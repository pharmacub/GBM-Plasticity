{
 "cells": [
  {
   "cell_type": "markdown",
   "id": "3d8b6604-14f3-43a0-ba66-fe6f4b397fe7",
   "metadata": {},
   "source": [
    "``` conda install -c conda-forge scanpy python-igraph leidenalg ```"
   ]
  },
  {
   "cell_type": "code",
   "execution_count": null,
   "id": "ce79cfa9-c6a1-4135-b3db-f0f832d9f53c",
   "metadata": {},
   "outputs": [],
   "source": [
    "## Scanpy first analysis\n",
    "# Load libraries and settings\n",
    "import numpy as np\n",
    "import pandas as pd\n",
    "import scanpy as sc\n",
    "import anndata as ad\n",
    "import scvelo as scv\n",
    "sc.settings.verbosity = 3\n",
    "sc.logging.print_header()\n",
    "sc.settings.set_figure_params(dpi=100, facecolor='white')"
   ]
  },
  {
   "cell_type": "code",
   "execution_count": null,
   "id": "4f70a4c3-cf14-40f8-8ed8-2a87816e77b3",
   "metadata": {},
   "outputs": [],
   "source": [
    "# Define the results file\n",
    "results_file = \"time_course.h5ad\""
   ]
  },
  {
   "cell_type": "code",
   "execution_count": null,
   "id": "7960a56c-880c-44c5-998d-268b01af73ab",
   "metadata": {},
   "outputs": [],
   "source": [
    "# Load all the loom files made with cellranger\n",
    "samples = {\n",
    "    \"day0\": \"../cellranger/data/10x/1_p2_day0_RNA/outs/filtered_feature_bc_matrix.h5\",\n",
    "    \"day1\": \"../cellranger/data/10x/2_p2_day1_RNA/outs/filtered_feature_bc_matrix.h5\",\n",
    "    \"day2\": \"../cellranger/data/10x/3_p2_day2_RNA/outs/filtered_feature_bc_matrix.h5\",\n",
    "    \"day3\": \"../cellranger/data/10x/4_p2_day3_RNA/outs/filtered_feature_bc_matrix.h5\",\n",
    "}\n",
    "adatas = {}\n",
    "\n",
    "for sample_id, filename in samples.items():\n",
    "    #path = EXAMPLE_DATA.fetch(filename)\n",
    "    sample_adata = sc.read_10x_h5(filename)\n",
    "    sample_adata.var_names_make_unique()\n",
    "    adatas[sample_id] = sample_adata\n",
    "\n",
    "adata = ad.concat(adatas, label=\"sample\")\n",
    "adata.obs_names_make_unique()\n",
    "print(adata.obs[\"sample\"].value_counts())\n",
    "adata"
   ]
  },
  {
   "cell_type": "markdown",
   "id": "84d406f4-a290-48db-aa78-f1bb18221659",
   "metadata": {},
   "source": [
    "\n",
    "The data contains ~15,000 cells per sample and 36k measured genes. We’ll now investigate these with a basic preprocessing and clustering workflow.\n",
    "\n",
    "\n"
   ]
  },
  {
   "cell_type": "markdown",
   "id": "561d336c-b296-4792-9ce5-c26f6b9dd29b",
   "metadata": {},
   "source": [
    "# Quality Control\n",
    "\n",
    "The scanpy function calculate_qc_metrics() calculates common quality control (QC) metrics, which are largely based on calculateQCMetrics from scater [McCarthy et al., 2017]. One can pass specific gene population to calculate_qc_metrics() in order to calculate proportions of counts for these populations. Mitochondrial, ribosomal and hemoglobin genes are defined by distinct prefixes as listed below."
   ]
  },
  {
   "cell_type": "code",
   "execution_count": null,
   "id": "eff556d6-b9c7-4ad5-82b7-bd672c47d1b7",
   "metadata": {},
   "outputs": [],
   "source": [
    "# mitochondrial genes, \"MT-\" for human, \"Mt-\" for mouse\n",
    "adata.var[\"mt\"] = adata.var_names.str.startswith(\"MT-\")\n",
    "# ribosomal genes\n",
    "adata.var[\"ribo\"] = adata.var_names.str.startswith((\"RPS\", \"RPL\"))\n",
    "# hemoglobin genes\n",
    "adata.var[\"hb\"] = adata.var_names.str.contains(\"^HB[^(P)]\")"
   ]
  },
  {
   "cell_type": "code",
   "execution_count": null,
   "id": "c5c004c2-84af-46ab-9897-7c06685e9a9a",
   "metadata": {},
   "outputs": [],
   "source": [
    "sc.pp.calculate_qc_metrics(\n",
    "    adata, qc_vars=[\"mt\", \"ribo\", \"hb\"], inplace=True, log1p=True\n",
    ")"
   ]
  },
  {
   "cell_type": "markdown",
   "id": "363f4803-e992-4086-85a4-55f2ed333b4c",
   "metadata": {},
   "source": [
    "One can now inspect violin plots of some of the computed QC metrics:\n",
    "\n",
    "the number of genes expressed in the count matrix\n",
    "the total counts per cell\n",
    "the percentage of counts in mitochondrial genes"
   ]
  },
  {
   "cell_type": "code",
   "execution_count": null,
   "id": "16655cb3-06e0-413a-aa69-556db10d5d99",
   "metadata": {},
   "outputs": [],
   "source": [
    "sc.pl.violin(\n",
    "    adata,\n",
    "    [\"n_genes_by_counts\", \"total_counts\", \"pct_counts_mt\"],\n",
    "    jitter=0.4,\n",
    "    multi_panel=True,\n",
    ")"
   ]
  },
  {
   "cell_type": "code",
   "execution_count": null,
   "id": "07b41635-a714-4b0c-a1bf-e93c16ba4c9e",
   "metadata": {},
   "outputs": [],
   "source": [
    "sc.pl.scatter(adata, \"total_counts\", \"n_genes_by_counts\", color=\"pct_counts_mt\")"
   ]
  },
  {
   "cell_type": "markdown",
   "id": "c34d14ca-67e5-4c2a-87ee-bdebc40f8e80",
   "metadata": {},
   "source": [
    "Based on the QC metric plots, one could now remove cells that have too many mitochondrial genes expressed or too many total counts by setting manual or automatic thresholds. However, sometimes what appears to be poor QC metrics can be driven by real biology so we suggest starting with a very permissive filtering strategy and revisiting it at a later point. We therefore now only filter cells with less than 100 genes expressed and genes that are detected in less than 3 cells.\n",
    "\n",
    "Additionally, it is important to note that for datasets with multiple batches, quality control should be performed for each sample individually as quality control thresholds can very substantially between batches."
   ]
  },
  {
   "cell_type": "code",
   "execution_count": null,
   "id": "76a31b61-fcbd-48f0-94f8-7bbf3a260728",
   "metadata": {},
   "outputs": [],
   "source": [
    "sc.pp.filter_cells(adata, min_genes=500)\n",
    "sc.pp.filter_genes(adata, min_cells=3)"
   ]
  },
  {
   "cell_type": "markdown",
   "id": "6c744b06-395d-4dbd-88a8-452d466e66b5",
   "metadata": {},
   "source": [
    "# Doublet detection\n",
    "\n",
    "As a next step, we run a doublet detection algorithm. Identifying doublets is crucial as they can lead to misclassifications or distortions in downstream analysis steps. Scanpy contains the doublet detection method Scrublet [Wolock et al., 2019]. Scrublet predicts cell doublets using a nearest-neighbor classifier of observed transcriptomes and simulated doublets. scanpy.pp.scrublet() adds doublet_score and predicted_doublet to .obs. One can now either filter directly on predicted_doublet or use the doublet_score later during clustering to filter clusters with high doublet scores."
   ]
  },
  {
   "cell_type": "code",
   "execution_count": null,
   "id": "fa51fd17-f466-4215-bb73-5e2467346064",
   "metadata": {},
   "outputs": [],
   "source": [
    "import scanpy as sc\n",
    "import scanpy.external as sce\n",
    "\n",
    "# Run Scrublet\n",
    "sce.pp.scrublet(adata, batch_key=\"sample\")\n"
   ]
  },
  {
   "cell_type": "markdown",
   "id": "8b2f7f85-026b-4817-8ac6-e15e89a8e813",
   "metadata": {},
   "source": [
    "# Normalization\n",
    "\n",
    "The next preprocessing step is normalization. A common approach is count depth scaling with subsequent log plus one (log1p) transformation. Count depth scaling normalizes the data to a “size factor” such as the median count depth in the dataset, ten thousand (CP10k) or one million (CPM, counts per million). The size factor for count depth scaling can be controlled via target_sum in pp.normalize_total. We are applying median count depth normalization with log1p transformation (AKA log1PF)."
   ]
  },
  {
   "cell_type": "code",
   "execution_count": null,
   "id": "98a66c86-a14a-4178-9af6-4485f1b15cc2",
   "metadata": {},
   "outputs": [],
   "source": [
    "# Saving count data\n",
    "adata.layers[\"counts\"] = adata.X.copy()"
   ]
  },
  {
   "cell_type": "code",
   "execution_count": null,
   "id": "692c7f31-3444-4f7b-b944-90a515009da6",
   "metadata": {},
   "outputs": [],
   "source": [
    "# Normalizing to median total counts\n",
    "sc.pp.normalize_total(adata)\n",
    "# Logarithmize the data\n",
    "sc.pp.log1p(adata)"
   ]
  },
  {
   "cell_type": "markdown",
   "id": "a655063c-3d5a-4d79-9cbf-dc5219812263",
   "metadata": {},
   "source": [
    "# Feature selection\n",
    "\n",
    "As a next step, we want to reduce the dimensionality of the dataset and only include the most informative genes. This step is commonly known as feature selection. The scanpy function pp.highly_variable_genes annotates highly variable genes by reproducing the implementations of Seurat [Satija et al., 2015], Cell Ranger [Zheng et al., 2017], and Seurat v3 [Stuart et al., 2019] depending on the chosen flavor."
   ]
  },
  {
   "cell_type": "code",
   "execution_count": null,
   "id": "32160535-e5b3-449f-a43f-72e815b57c17",
   "metadata": {},
   "outputs": [],
   "source": [
    "sc.pp.highly_variable_genes(adata, n_top_genes=2000, batch_key=\"sample\")"
   ]
  },
  {
   "cell_type": "code",
   "execution_count": null,
   "id": "75e32bd8-834f-4422-a8fa-8215bd8163ff",
   "metadata": {},
   "outputs": [],
   "source": [
    "sc.pl.highly_variable_genes(adata)"
   ]
  },
  {
   "cell_type": "markdown",
   "id": "dfdb569f-3b9c-40bc-860f-0d1638e3fa6b",
   "metadata": {},
   "source": [
    "# Dimensionality Reduction\n",
    "\n",
    "Reduce the dimensionality of the data by running principal component analysis (PCA), which reveals the main axes of variation and denoises the data.\n",
    "\n"
   ]
  },
  {
   "cell_type": "code",
   "execution_count": null,
   "id": "78626531-3af7-40e9-88ac-a7eb3b00b76f",
   "metadata": {},
   "outputs": [],
   "source": [
    "sc.tl.pca(adata)"
   ]
  },
  {
   "cell_type": "markdown",
   "id": "6eb72c84-d3ab-4268-9e93-4a614c982707",
   "metadata": {},
   "source": [
    "Let us inspect the contribution of single PCs to the total variance in the data. This gives us information about how many PCs we should consider in order to compute the neighborhood relations of cells, e.g. used in the clustering function leiden() or tsne(). In our experience, there does not seem to be signifigant downside to overestimating the numer of principal components."
   ]
  },
  {
   "cell_type": "code",
   "execution_count": null,
   "id": "68a05455-dbc5-4f55-b15c-f25d2e7ae6f8",
   "metadata": {},
   "outputs": [],
   "source": [
    "sc.pl.pca_variance_ratio(adata, n_pcs=50, log=True)"
   ]
  },
  {
   "cell_type": "markdown",
   "id": "116b5108-07af-48a2-9146-fbb4231b1275",
   "metadata": {},
   "source": [
    "You can also plot the principal components to see if there are any potentially undesired features (e.g. batch, QC metrics) driving signifigant variation in this dataset. In this case, there isn’t anything too alarming, but it’s a good idea to explore this.\n",
    "\n"
   ]
  },
  {
   "cell_type": "code",
   "execution_count": null,
   "id": "85e63644-9fa8-4ce6-addb-04dee9fb0ad4",
   "metadata": {},
   "outputs": [],
   "source": [
    "sc.pl.pca(\n",
    "    adata,\n",
    "    color=[\"sample\", \"sample\", \"pct_counts_mt\", \"pct_counts_mt\"],\n",
    "    dimensions=[(0, 1), (2, 3), (0, 1), (2, 3)],\n",
    "    ncols=2,\n",
    "    size=2,\n",
    ")"
   ]
  },
  {
   "cell_type": "code",
   "execution_count": null,
   "id": "793e23d4-8051-449c-a246-7b2898bc226d",
   "metadata": {},
   "outputs": [],
   "source": []
  },
  {
   "cell_type": "markdown",
   "id": "530e67e3-c767-496a-a6dd-c606aa76fc4b",
   "metadata": {},
   "source": [
    "# Nearest neighbor graph constuction and visualization\n",
    "\n",
    "Let us compute the neighborhood graph of cells using the PCA representation of the data matrix."
   ]
  },
  {
   "cell_type": "code",
   "execution_count": null,
   "id": "3a782545-5013-4fdc-9839-00b2083060f3",
   "metadata": {},
   "outputs": [],
   "source": [
    "sc.pp.neighbors(adata)"
   ]
  },
  {
   "cell_type": "markdown",
   "id": "d3a1e252-56ce-453f-8e82-4d0cc770a018",
   "metadata": {},
   "source": [
    "This graph can then be embedded in two dimensions for visualiztion with UMAP (McInnes et al., 2018):"
   ]
  },
  {
   "cell_type": "code",
   "execution_count": null,
   "id": "b82592cd-0776-4543-8294-88bdeb0d720c",
   "metadata": {},
   "outputs": [],
   "source": [
    "sc.tl.umap(adata)"
   ]
  },
  {
   "cell_type": "markdown",
   "id": "f80396f3-3dc7-4f5e-8685-da86bd3c1993",
   "metadata": {},
   "source": [
    "We can now visualize the UMAP according to the sample."
   ]
  },
  {
   "cell_type": "code",
   "execution_count": null,
   "id": "c5304a98-e519-43e2-b10b-088a682dd937",
   "metadata": {},
   "outputs": [],
   "source": [
    "sc.pl.umap(\n",
    "    adata,\n",
    "    color=\"sample\",\n",
    "    # Setting a smaller point size to get prevent overlap\n",
    "    size=2,show=True\n",
    ")"
   ]
  },
  {
   "cell_type": "code",
   "execution_count": null,
   "id": "11796e04-5111-44a6-a4e3-550a383c4368",
   "metadata": {},
   "outputs": [],
   "source": [
    "#%matplotlib inline"
   ]
  },
  {
   "cell_type": "markdown",
   "id": "87d94c2c-dbf4-4d7f-967c-a9b5d8af688f",
   "metadata": {},
   "source": [
    "We observe a major batch effect between day0 and the other three days. However, this could reflect real biological changes that have taken place quickly between day0 and day1. We will continue with clustering and annotation of our data, while we could inspect batch effects in UMAP to try and integrate across samples and perform batch correction/integration. We could use harmony."
   ]
  },
  {
   "cell_type": "markdown",
   "id": "73d0683d-d572-4b86-85e5-e17a0bf10e56",
   "metadata": {},
   "source": [
    "# Clustering\n",
    "\n",
    "As with Seurat and many other frameworks, we recommend the Leiden graph-clustering method (community detection based on optimizing modularity) [Traag et al., 2019]. Note that Leiden clustering directly clusters the neighborhood graph of cells, which we already computed in the previous section."
   ]
  },
  {
   "cell_type": "code",
   "execution_count": null,
   "id": "dfc16e9a-24f6-4702-8f9e-6d67dd04436a",
   "metadata": {},
   "outputs": [],
   "source": [
    "# Using the igraph implementation and a fixed number of iterations can be significantly faster, especially for larger datasets\n",
    "sc.tl.leiden(adata, flavor=\"igraph\", n_iterations=2)"
   ]
  },
  {
   "cell_type": "code",
   "execution_count": null,
   "id": "7f3bdb14-893b-4b81-96eb-f8827473d023",
   "metadata": {},
   "outputs": [],
   "source": [
    "sc.pl.umap(adata, color=[\"leiden\"])"
   ]
  },
  {
   "cell_type": "markdown",
   "id": "91e5d099-616b-4765-9ae8-b8a91667583b",
   "metadata": {},
   "source": [
    "# Re-assess quality control and cell filtering\n",
    "\n",
    "As indicated before, we will now re-assess our filtering strategy by visualizing different QC metrics using UMAP."
   ]
  },
  {
   "cell_type": "code",
   "execution_count": null,
   "id": "ce958419-ff14-4827-9e55-36935a5d04ab",
   "metadata": {},
   "outputs": [],
   "source": [
    "sc.pl.umap(\n",
    "    adata,\n",
    "    color=[\"leiden\", \"predicted_doublet\", \"doublet_score\"],\n",
    "    # increase horizontal space between panels\n",
    "    wspace=0.5,\n",
    "    size=3,\n",
    ")"
   ]
  },
  {
   "cell_type": "code",
   "execution_count": null,
   "id": "2e1d9d9a-2d1b-4548-84a5-2882224bbf64",
   "metadata": {},
   "outputs": [],
   "source": [
    "sc.pl.umap(\n",
    "    adata,\n",
    "    color=[\"leiden\", \"log1p_total_counts\", \"pct_counts_mt\", \"log1p_n_genes_by_counts\"],\n",
    "    wspace=0.5,\n",
    "    ncols=2,\n",
    ")"
   ]
  },
  {
   "cell_type": "markdown",
   "id": "23b16099-891d-4c4a-a26d-b9216f69a4e8",
   "metadata": {},
   "source": [
    "It is quite clear that I should have the mito above a certain thresold removed. There are many cells mainly of day3 in the cluster number 8 that have a low QC also marked by the number of genes and total counts. Therefore I should apply new filters."
   ]
  },
  {
   "cell_type": "code",
   "execution_count": null,
   "id": "33814b65-1a52-4443-bc43-d816e8dade45",
   "metadata": {},
   "outputs": [],
   "source": [
    "adata = adata[adata.obs[\"pct_counts_mt\"] < 20].copy()\n",
    "print(f\"#cells after MT filter: {adata.n_obs}\")"
   ]
  },
  {
   "cell_type": "code",
   "execution_count": null,
   "id": "da33cf99-3a37-4831-aa50-01bafd6e36ee",
   "metadata": {},
   "outputs": [],
   "source": [
    "# Saving count data\n",
    "adata.layers[\"counts\"] = adata.X.copy()\n",
    "#sc.pp.normalize_total(adata, inplace=False)\n",
    "#sc.pp.log1p(adata)\n",
    "sc.pp.highly_variable_genes(adata, n_top_genes=2000, batch_key=\"sample\")\n",
    "sc.pl.highly_variable_genes(adata)\n",
    "sc.tl.pca(adata)\n",
    "sc.pl.pca_variance_ratio(adata, n_pcs=50, log=True)\n",
    "sc.pl.pca(\n",
    "    adata,\n",
    "    color=[\"sample\", \"sample\", \"pct_counts_mt\", \"pct_counts_mt\"],\n",
    "    dimensions=[(0, 1), (2, 3), (0, 1), (2, 3)],\n",
    "    ncols=2,\n",
    "    size=2,\n",
    ")\n",
    "sc.pp.neighbors(adata)\n",
    "sc.tl.umap(adata)"
   ]
  },
  {
   "cell_type": "code",
   "execution_count": null,
   "id": "7bda19e8-51b1-433c-a497-028cbb63db8a",
   "metadata": {},
   "outputs": [],
   "source": [
    "sc.pl.umap(\n",
    "    adata,\n",
    "    color=\"sample\",\n",
    "    # Setting a smaller point size to get prevent overlap\n",
    "    size=2,\n",
    ")"
   ]
  },
  {
   "cell_type": "code",
   "execution_count": null,
   "id": "fa27e8b8-46aa-4826-ae6b-c3209a3ee4b2",
   "metadata": {},
   "outputs": [],
   "source": [
    "sc.pl.umap(\n",
    "    adata,\n",
    "    color=[\"leiden\", \"predicted_doublet\", \"doublet_score\"],\n",
    "    # increase horizontal space between panels\n",
    "    wspace=0.5,\n",
    "    size=3,\n",
    ")"
   ]
  },
  {
   "cell_type": "code",
   "execution_count": null,
   "id": "55e2a834-d17b-4e4c-9c09-0ebb8fe9de3c",
   "metadata": {},
   "outputs": [],
   "source": [
    "sc.pl.umap(\n",
    "    adata,\n",
    "    color=[\"leiden\", \"log1p_total_counts\", \"pct_counts_mt\", \"log1p_n_genes_by_counts\"],\n",
    "    wspace=0.5,\n",
    "    ncols=2,\n",
    ")"
   ]
  },
  {
   "cell_type": "markdown",
   "id": "44711443-0c37-4835-8e62-19831f2bff4b",
   "metadata": {},
   "source": [
    "# Manual cell-type annotation\n",
    "\n",
    "## Note\n",
    "This section of the tutorial is expanded upon using prior knowledge resources like automated assignment and gene enrichment in the scverse tutorial here\n",
    "Cell type annotation is laborous and repetitive task, one which typically requires multiple rounds of subclustering and re-annotation. It’s difficult to show the entirety of the process in this tutorial, but we aim to show how the tools scanpy provides assist in this process.\n",
    "\n",
    "We have now reached a point where we have obtained a set of cells with decent quality, and we can proceed to their annotation to known cell types. Typically, this is done using genes that are exclusively expressed by a given cell type, or in other words these genes are the marker genes of the cell types, and are thus used to distinguish the heterogeneous groups of cells in our data. Previous efforts have collected and curated various marker genes into available resources, such as CellMarker, TF-Marker, and PanglaoDB. The cellxgene gene expression tool can also be quite useful to see which cell types a gene has been expressed in across many existing datasets.\n",
    "\n",
    "Commonly and classically, cell type annotation uses those marker genes subsequent to the grouping of the cells into clusters. So, let’s generate a set of clustering solutions which we can then use to annotate our cell types. Here, we will use the Leiden clustering algorithm which will extract cell communities from our nearest neighbours graph."
   ]
  },
  {
   "cell_type": "code",
   "execution_count": null,
   "id": "b24764e9-d347-44e2-80b4-74b8d9ce29b9",
   "metadata": {},
   "outputs": [],
   "source": [
    "for res in [0.02, 0.5, 2.0]:\n",
    "    sc.tl.leiden(\n",
    "        adata, key_added=f\"leiden_res_{res:4.2f}\", resolution=res, flavor=\"igraph\"\n",
    "    )"
   ]
  },
  {
   "cell_type": "markdown",
   "id": "ad715897-4e78-4caf-9a52-f23953301a5e",
   "metadata": {},
   "source": [
    "Notably, the number of clusters that we define is largely arbitrary, and so is the resolution parameter that we use to control for it. As such, the number of clusters is ultimately bound to the stable and biologically-meaningful groups that we can ultimately distringuish, typically done by experts in the corresponding field or by using expert-curated prior knowledge in the form of markers.\n",
    "\n"
   ]
  },
  {
   "cell_type": "code",
   "execution_count": null,
   "id": "d3eea2d5-75f1-40b1-af62-1ef6bf7487ec",
   "metadata": {},
   "outputs": [],
   "source": [
    "sc.pl.umap(\n",
    "    adata,\n",
    "    color=[\"leiden_res_0.02\", \"leiden_res_0.50\", \"leiden_res_2.00\"],\n",
    "    legend_loc=\"on data\",\n",
    ")"
   ]
  },
  {
   "cell_type": "markdown",
   "id": "3041b563-546a-4f16-b6b9-bc6f9c2363a3",
   "metadata": {},
   "source": [
    "Though UMAPs should not be over-interpreted, here we can already see that in the highest resolution our data is over-clustered, while the lowest resolution is likely grouping cells which belong to distinct cell identities.\n",
    "\n"
   ]
  },
  {
   "cell_type": "markdown",
   "id": "d566c40d-77bb-40b2-8f7f-3020f5fc41a2",
   "metadata": {},
   "source": [
    "# Marker gene set\n",
    "\n",
    "Let’s define a set of marker genes for the main cell types that we expect to see in this dataset. These were adapted from Single Cell Best Practices annotation chapter, for a more detailed overview and best practices in cell type annotation, we refer the user to it."
   ]
  },
  {
   "cell_type": "code",
   "execution_count": null,
   "id": "87a7bc8d-94a2-4857-97f4-7471775ce7df",
   "metadata": {},
   "outputs": [],
   "source": [
    "marker_genes = {\n",
    "    \"Pop2\": [\"CADM2\", \"ARFGEF3\",\"SHD\"],\n",
    "    \"Pop1\": [\"CRYAB\", \"RGS6\", \"PHLDA2\"],\n",
    "    \"Pop3\": [\"PCSK2\", \"GABRQ\", \"NSG1\"],\n",
    "    \"Pop4\": [\"SLC38A1\", \"SLC40A1\", \"RARRES2\"]\n",
    "}"
   ]
  },
  {
   "cell_type": "code",
   "execution_count": null,
   "id": "c4a28410-ab74-4ec3-bcd2-f2c85f34b2ca",
   "metadata": {},
   "outputs": [],
   "source": [
    "sc.pl.dotplot(adata, marker_genes, groupby=\"leiden_res_0.02\", standard_scale=\"var\")"
   ]
  },
  {
   "cell_type": "code",
   "execution_count": null,
   "id": "41e9e206-268d-4c19-a125-81a4e588ef4e",
   "metadata": {},
   "outputs": [],
   "source": [
    "sc.pl.dotplot(adata, marker_genes, groupby=\"leiden_res_0.50\", standard_scale=\"var\")"
   ]
  },
  {
   "cell_type": "markdown",
   "id": "a9607d1e-d38b-42e4-a55a-842032d0a4a7",
   "metadata": {},
   "source": [
    "It seems that clusters from day 0 [0,1,2] have higher expression of the three markers of Pop4, as seen by bulk RNASeq but it is not very clear. I'd rather obtain the Differential Markers before, then I'll try also to harmonize the batch effect.\n",
    "I first calculate markers from the lowest resolution 'leiden_res_0.02'"
   ]
  },
  {
   "cell_type": "code",
   "execution_count": null,
   "id": "5a1b08e9-1d7a-4053-8c32-d7450b37c743",
   "metadata": {},
   "outputs": [],
   "source": [
    "# Obtain cluster-specific differentially expressed genes\n",
    "sc.tl.rank_genes_groups(adata, groupby=\"leiden_res_0.02\", method=\"wilcoxon\")"
   ]
  },
  {
   "cell_type": "markdown",
   "id": "f06cf818-1f74-4f94-95f4-59aac5b30228",
   "metadata": {},
   "source": [
    "We can then visualize the top 25 differentially-expressed genes on a dotplot."
   ]
  },
  {
   "cell_type": "code",
   "execution_count": null,
   "id": "b656e623-bf56-40fd-aa19-ebc0a4b430f9",
   "metadata": {},
   "outputs": [],
   "source": [
    "sc.pl.rank_genes_groups_dotplot(\n",
    "    adata, groupby=\"leiden_res_0.02\", standard_scale=\"var\", n_genes=25\n",
    ")"
   ]
  },
  {
   "cell_type": "markdown",
   "id": "fd430807-756d-4749-a5d9-48d175f42590",
   "metadata": {},
   "source": [
    "The genes GAS5, MALAT1 and the other ribo and mito genes suggest a strong batch effect between Sample at day0 and the other three, therefore I should run batch effect correction before the analysis."
   ]
  },
  {
   "cell_type": "markdown",
   "id": "0ffa9af9-f011-4890-925a-2a19066b81fd",
   "metadata": {},
   "source": [
    "# Samples integration with Harmony"
   ]
  },
  {
   "cell_type": "code",
   "execution_count": null,
   "id": "680156c6-6c8f-44b7-9607-d62e7962b4fb",
   "metadata": {},
   "outputs": [],
   "source": [
    "# I try harmony\n",
    "import scanpy.external as sce\n",
    "import harmonypy\n",
    "# adata_harm = adata.copy()\n",
    "sce.pp.harmony_integrate(adata, 'sample')"
   ]
  },
  {
   "cell_type": "code",
   "execution_count": null,
   "id": "c1b9680f-1607-475d-ad7b-0957c83170c1",
   "metadata": {},
   "outputs": [],
   "source": [
    "sc.pp.neighbors(adata, use_rep = 'X_pca_harmony')\n",
    "sc.tl.umap(adata)"
   ]
  },
  {
   "cell_type": "code",
   "execution_count": null,
   "id": "4b6d6b0e-1f43-4ed0-a81f-c5dd4e8ea189",
   "metadata": {},
   "outputs": [],
   "source": [
    "for res in [0.02, 0.5, 2.0]:\n",
    "    sc.tl.leiden(\n",
    "        adata, key_added=f\"leiden_res_{res:4.2f}\", resolution=res, flavor=\"igraph\"\n",
    "    )"
   ]
  },
  {
   "cell_type": "code",
   "execution_count": null,
   "id": "5ce49ca5-df1c-4a1f-b83e-a810fab2a0d2",
   "metadata": {},
   "outputs": [],
   "source": [
    "sc.pl.umap(\n",
    "    adata,\n",
    "    color=[\"leiden_res_0.02\", \"leiden_res_0.50\", \"leiden_res_2.00\"],\n",
    "    legend_loc=\"on data\",\n",
    ")"
   ]
  },
  {
   "cell_type": "code",
   "execution_count": null,
   "id": "a0ae1155-f98d-4a98-8d70-9870765d7f34",
   "metadata": {},
   "outputs": [],
   "source": [
    "sc.pl.umap(\n",
    "    adata,\n",
    "    color=[\"sample\"],\n",
    "    legend_loc=\"on data\",\n",
    ")"
   ]
  },
  {
   "cell_type": "markdown",
   "id": "daf5200c-3ac3-41af-8edd-8b9d07d278d3",
   "metadata": {},
   "source": [
    "Now I start again with the Markers"
   ]
  },
  {
   "cell_type": "code",
   "execution_count": null,
   "id": "dd889ac4-4f79-4e7e-9633-b5de3d07e2e9",
   "metadata": {},
   "outputs": [],
   "source": [
    "# Obtain cluster-specific differentially expressed genes\n",
    "sc.tl.rank_genes_groups(adata, groupby=\"leiden_res_0.50\", method=\"wilcoxon\")"
   ]
  },
  {
   "cell_type": "code",
   "execution_count": null,
   "id": "e7d72a11-a1c1-467f-a53e-55eca39f19a6",
   "metadata": {},
   "outputs": [],
   "source": [
    "sc.pl.rank_genes_groups_dotplot(\n",
    "    adata, groupby=\"leiden_res_0.50\", standard_scale=\"var\", n_genes=5\n",
    ")"
   ]
  },
  {
   "cell_type": "markdown",
   "id": "8db3ff52-f73c-4381-b060-548b395ab85a",
   "metadata": {},
   "source": [
    "Cluster 6 is again low quality since MALAT1, but also KCNQ1OT1 is a lncRNA associated to low QC. However it might still be a bit of overclustering. I reduce the resolution to 0.3"
   ]
  },
  {
   "cell_type": "code",
   "execution_count": null,
   "id": "1b527853-ea74-4a6f-ac55-d582c076763d",
   "metadata": {},
   "outputs": [],
   "source": [
    "sc.tl.leiden(adata, key_added=\"leiden_res_0.30\", resolution=0.30, flavor=\"igraph\")"
   ]
  },
  {
   "cell_type": "code",
   "execution_count": null,
   "id": "bc4625fd-82dc-4447-b9c5-b546373812a3",
   "metadata": {},
   "outputs": [],
   "source": [
    "sc.pl.umap(\n",
    "    adata,\n",
    "    color=[\"leiden_res_0.30\"],\n",
    "    legend_loc=\"on data\",\n",
    ")"
   ]
  },
  {
   "cell_type": "code",
   "execution_count": null,
   "id": "a2f84215-cd4c-43b2-9686-069e7b1148fd",
   "metadata": {},
   "outputs": [],
   "source": [
    "# Obtain cluster-specific differentially expressed genes\n",
    "sc.tl.rank_genes_groups(adata, groupby=\"leiden_res_0.30\", method=\"wilcoxon\")\n",
    "sc.pl.rank_genes_groups_dotplot(\n",
    "    adata, groupby=\"leiden_res_0.30\", standard_scale=\"var\", n_genes=5\n",
    ")"
   ]
  },
  {
   "cell_type": "markdown",
   "id": "862dc10e-883e-4d37-bcea-bd347995683c",
   "metadata": {},
   "source": [
    "# Cycle scoring"
   ]
  },
  {
   "cell_type": "markdown",
   "id": "ecad9c6d-c779-413f-a3d1-f24b4386f76e",
   "metadata": {},
   "source": [
    "Load cell cycle genes defined in Tirosh et al, 2015. It is a list of 97 genes, represented by their gene symbol. The list here is for humans, in case of alternate organism, a list of ortologues should be compiled. There are major differences in the way Scanpy and Seurat manage data, in particular we need to filter out cell cycle genes that are not present in our dataset to avoid errors."
   ]
  },
  {
   "cell_type": "code",
   "execution_count": null,
   "id": "825e113c-913b-47da-8553-67c64e34c319",
   "metadata": {},
   "outputs": [],
   "source": [
    "cell_cycle_genes = [x.strip() for x in open('./regev_lab_cell_cycle_genes.txt')]"
   ]
  },
  {
   "cell_type": "markdown",
   "id": "7f664bb2-4d6e-4366-a5f9-f7b124b85d91",
   "metadata": {},
   "source": [
    "Here we define two lists, genes associated to the S phase and genes associated to the G2M phase"
   ]
  },
  {
   "cell_type": "code",
   "execution_count": null,
   "id": "4e687127-b68f-4a3a-a6c7-f40136aab5ed",
   "metadata": {},
   "outputs": [],
   "source": [
    "s_genes = cell_cycle_genes[:43]\n",
    "g2m_genes = cell_cycle_genes[43:]\n",
    "cell_cycle_genes = [x for x in cell_cycle_genes if x in adata.var_names]"
   ]
  },
  {
   "cell_type": "markdown",
   "id": "b2fca6f0-a19c-451e-b32b-0b0cc0b89e9d",
   "metadata": {},
   "source": [
    "Standard filters applied. Note that we do not extract variable genes and work on the whole dataset, instead. This is because, for this demo, almost 70 cell cycle genes would not be scored as variable. Cell cycle scoring on ~20 genes is ineffective."
   ]
  },
  {
   "cell_type": "markdown",
   "id": "35cf1e75-e96a-43d0-9d20-7c4cbb51f76e",
   "metadata": {},
   "source": [
    "We here perform cell cycle scoring. The function is actually a wrapper to sc.tl.score_gene_list, which is launched twice, to score separately S and G2M phases. Both sc.tl.score_gene_list and sc.tl.score_cell_cycle_genes are a port from Seurat and are supposed to work in a very similar way. To score a gene list, the algorithm calculates the difference of mean expression of the given list and the mean expression of reference genes. To build the reference, the function randomly chooses a bunch of genes matching the distribution of the expression of the given list. Cell cycle scoring adds three slots in data, a score for S phase, a score for G2M phase and the predicted cell cycle phase."
   ]
  },
  {
   "cell_type": "code",
   "execution_count": null,
   "id": "78abb2ef-0cd5-4f1a-ae3b-6fcaaa772306",
   "metadata": {},
   "outputs": [],
   "source": [
    "sc.tl.score_genes_cell_cycle(adata, s_genes=s_genes, g2m_genes=g2m_genes)"
   ]
  },
  {
   "cell_type": "code",
   "execution_count": null,
   "id": "dfd58a55-bb30-4c6b-9c66-4af6d7384388",
   "metadata": {},
   "outputs": [],
   "source": [
    "sc.pl.umap(\n",
    "    adata,\n",
    "    color=[\"phase\",\"leiden_res_0.30\",\"sample\"],\n",
    ")"
   ]
  },
  {
   "cell_type": "markdown",
   "id": "57685880-7483-4340-b0fa-7e57733b4fca",
   "metadata": {},
   "source": [
    "The clusters green/blue (0 and 2) are mainly G2M and S cell cycle. In day1 we have more cells in those clusters. We can see this with a violin plot"
   ]
  },
  {
   "cell_type": "code",
   "execution_count": null,
   "id": "30989e65-e0d7-41b1-9382-0006ce4fd411",
   "metadata": {},
   "outputs": [],
   "source": [
    "sc.pl.violin(\n",
    "    adata,[\"CD44\",\"CD24\",\"EGFR\", \"S_score\",\"G2M_score\"],groupby=\"sample\",jitter=True, scale='width', log=False, rotation=45, stripplot=True, multi_panel=True\n",
    ")"
   ]
  },
  {
   "cell_type": "markdown",
   "id": "ecc1cf2a-8bfd-4c9d-b589-0d82ba27d553",
   "metadata": {},
   "source": [
    "We also see that CD44 and CD24 high are highest at day0 while they decrease already after day1 and then they keep rather stable along the day2 and 3"
   ]
  },
  {
   "cell_type": "markdown",
   "id": "50215908-9259-4483-b4a4-c88b9fc61b03",
   "metadata": {},
   "source": [
    "# Signatures from the RNAseq bulk of P1-4 populations"
   ]
  },
  {
   "cell_type": "markdown",
   "id": "94a92bbf-20b3-4612-9e4a-3f15c60c873e",
   "metadata": {},
   "source": [
    "I calculate the different signatures from the csv file with the genes in the 4 populations. There's two different versions of population 1 genes"
   ]
  },
  {
   "cell_type": "code",
   "execution_count": null,
   "id": "f88b396d-6db7-46a2-bef8-86c6a072e9b5",
   "metadata": {},
   "outputs": [],
   "source": [
    "import pandas as pd\n",
    "\n",
    "# Load the CSV file into a pandas DataFrame\n",
    "df = pd.read_csv('Pop_GeneLists2.csv')\n",
    "\n",
    "# Group the genes based on the signature they belong to\n",
    "# Assuming the signature names are unique in the 'List' column\n",
    "signatures = df.groupby('List')['Name'].apply(list).to_dict()\n",
    "\n",
    "# You will now have a dictionary where the keys are the signature names\n",
    "# and the values are the corresponding lists of genes\n"
   ]
  },
  {
   "cell_type": "markdown",
   "id": "62559fc7-2e78-4720-b3a5-48c61e211dab",
   "metadata": {},
   "source": [
    "Now the scores"
   ]
  },
  {
   "cell_type": "code",
   "execution_count": null,
   "id": "a78684a1-e7d0-447b-8c2d-3f31d657509a",
   "metadata": {},
   "outputs": [],
   "source": [
    "# Calculate scores for each signature\n",
    "for signature_name, gene_list in signatures.items():\n",
    "    # Calculate the score for each gene signature\n",
    "    sc.tl.score_genes(adata, gene_list, score_name=signature_name + '_score')\n",
    "\n",
    "# Now the scores will be stored in adata.obs with column names like 'Signature1_score', 'Signature2_score', etc.\n"
   ]
  },
  {
   "cell_type": "code",
   "execution_count": null,
   "id": "c8ee25b1-b2d5-4eaf-819a-155c2713a89b",
   "metadata": {},
   "outputs": [],
   "source": [
    "# Visualize the signature scores on UMAP\n",
    "sc.pl.umap(adata, color=[signature_name + '_score' for signature_name in signatures.keys()],size=100, cmap='RdYlBu_r')\n"
   ]
  },
  {
   "cell_type": "markdown",
   "id": "4e50b715-1335-4b47-851b-8bcd376ad680",
   "metadata": {},
   "source": [
    "It seems that Pop2 are the basal level of clusters in the left (cluster2 mainly), population 1 is in between those clusters and population 3 is more to the left of cluster2. Population 4 is clearly cluster 3. Population 2 could also be the cluster up there a bit unconnected, though."
   ]
  },
  {
   "cell_type": "code",
   "execution_count": null,
   "id": "fe4bbaa3-485a-4df6-b49d-0f0c0d4fc484",
   "metadata": {},
   "outputs": [],
   "source": [
    "import matplotlib.pyplot as plt\n",
    "# List of signature score columns to plot\n",
    "signature_scores = [signature_name + '_score' for signature_name in signatures.keys()]\n",
    "\n",
    "# Plot violin plots without showing the points\n",
    "sc.pl.violin(adata, signature_scores, groupby='sample', jitter=False, scale='width', rotation=45, stripplot=False)\n"
   ]
  },
  {
   "cell_type": "markdown",
   "id": "1480ac36-c25b-4ab3-8964-50cf152cd5c0",
   "metadata": {},
   "source": [
    "Not very clear, however, Population 2 (the original one) is still the majoritary. Pop3 is increasing with days, while Pop1 seems to be increasing just at day1. Pop4 few cells."
   ]
  },
  {
   "cell_type": "markdown",
   "id": "3e9e9875-4d1f-4d99-a289-950db8daa278",
   "metadata": {},
   "source": [
    "I increase the resolution to 0.7 to increase granularity"
   ]
  },
  {
   "cell_type": "code",
   "execution_count": null,
   "id": "096281f0-a3a1-46ec-954a-40c06118b68b",
   "metadata": {},
   "outputs": [],
   "source": [
    "sc.tl.leiden(adata, key_added=\"leiden_res_0.70\", resolution=0.70, flavor=\"igraph\")\n",
    "sc.pl.umap(\n",
    "    adata,\n",
    "    color=[\"leiden_res_0.70\"],\n",
    "    legend_loc=\"on data\",\n",
    ")"
   ]
  },
  {
   "cell_type": "markdown",
   "id": "3e6b6911-1158-4e09-9698-d9316c88bc33",
   "metadata": {},
   "source": [
    "I decide to keep this resolution as definitive and then I name them 'clusters'"
   ]
  },
  {
   "cell_type": "code",
   "execution_count": null,
   "id": "41a3f62f-0cdb-4413-a370-cb969f37a86f",
   "metadata": {},
   "outputs": [],
   "source": [
    "import scanpy as sc\n",
    "\n",
    "# Assuming 'adata' is your AnnData object\n",
    "adata.obs['clusters'] = adata.obs['leiden_res_0.70']\n"
   ]
  },
  {
   "cell_type": "markdown",
   "id": "ef0e49af-5b78-41eb-9e3b-8135bb86bdac",
   "metadata": {},
   "source": [
    "# Barplot of percentages of clusters"
   ]
  },
  {
   "cell_type": "code",
   "execution_count": null,
   "id": "d5e3dd30-04cc-4ba2-b60a-a3ec8e3785ec",
   "metadata": {},
   "outputs": [],
   "source": [
    "# Barplot of percentages of clusters"
   ]
  },
  {
   "cell_type": "code",
   "execution_count": null,
   "id": "c375f1aa-c5f0-4c0b-b912-6c8fe4a00fb4",
   "metadata": {},
   "outputs": [],
   "source": [
    "import scanpy as sc\n",
    "import pandas as pd\n",
    "import matplotlib.pyplot as plt\n",
    "\n",
    "# Assuming your adata object is named 'adata'\n",
    "# Extract cluster and sample information\n",
    "clusters = adata.obs['clusters']\n",
    "samples = adata.obs['sample']\n",
    "\n",
    "# Create a DataFrame with the cluster and sample information\n",
    "df = pd.DataFrame({'cluster': clusters, 'sample': samples})\n",
    "\n",
    "# Calculate the percentages of cells in each cluster for each sample\n",
    "percentage_df = df.groupby(['sample', 'cluster']).size().unstack(fill_value=0)\n",
    "percentage_df = percentage_df.div(percentage_df.sum(axis=1), axis=0) * 100\n",
    "\n",
    "# Get the colors from the UMAP plot\n",
    "umap_colors = adata.uns['leiden_res_0.70_colors']\n",
    "\n",
    "# Plot the barplot\n",
    "percentage_df.plot(kind='bar', stacked=True, color=umap_colors)\n",
    "plt.xlabel('Sample')\n",
    "plt.ylabel('Percentage of Cells')\n",
    "plt.title('Percentage of Cells in Each Leiden Cluster for Each Sample')\n",
    "plt.legend(title='Leiden Cluster', bbox_to_anchor=(1.05, 1), loc='upper left')\n",
    "plt.show()\n",
    "sc.pl.umap(adata,color=\"clusters\", legend_loc='on data')"
   ]
  },
  {
   "cell_type": "markdown",
   "id": "25260552-26df-4072-af15-74a5f5e1ab61",
   "metadata": {},
   "source": [
    "Cluster 8 (light blue) increases after day1, it seems to be cell cycle replication. The same for cluster 5. Cluster 6 (pink) decreases, could be the G1 of Pop2 that gets into cell cycle. Cluster 7 shrinks a bit but it is stable. Same for cluster 4 which seems in the middle. Also cluster 3 decreases at day 1 and then is stable. Cluster 2, which is a bit apart, same."
   ]
  },
  {
   "cell_type": "markdown",
   "id": "20a50c71-c71a-41ed-af4a-ab502ac5ece0",
   "metadata": {},
   "source": [
    "I obtain the markers for those clusters"
   ]
  },
  {
   "cell_type": "code",
   "execution_count": null,
   "id": "c6fced8c-af0b-431e-a354-7cf83f2b7539",
   "metadata": {},
   "outputs": [],
   "source": [
    "# Obtain cluster-specific differentially expressed genes\n",
    "sc.tl.rank_genes_groups(adata, groupby=\"leiden_res_0.70\", method=\"wilcoxon\")\n",
    "sc.pl.rank_genes_groups_dotplot(\n",
    "    adata, groupby=\"leiden_res_0.70\", standard_scale=\"var\", n_genes=5\n",
    ")"
   ]
  },
  {
   "cell_type": "code",
   "execution_count": null,
   "id": "50496421-f184-49c6-ac4d-7ab1b42a831c",
   "metadata": {},
   "outputs": [],
   "source": [
    "# Write an excel file with the genes\n",
    "import pandas as pd\n",
    "\n",
    "# Extract the results from the rank_genes_groups function\n",
    "result = adata.uns['rank_genes_groups']\n",
    "\n",
    "# Create a DataFrame to store the results\n",
    "groups = result['names'].dtype.names\n",
    "df = pd.DataFrame(\n",
    "    {group + '_' + key: result[key][group]\n",
    "     for group in groups for key in result.keys() if key != 'params'})\n",
    "\n",
    "# Save the DataFrame to an Excel file\n",
    "df.to_excel('markers_statistics.xlsx', index=False)\n",
    "\n",
    "print(\"The markers and their statistics have been successfully saved to markers_statistics.xlsx\")\n"
   ]
  },
  {
   "cell_type": "markdown",
   "id": "6334de52-d50e-4022-a3b8-6faf856af93c",
   "metadata": {},
   "source": [
    "Cluster 1 is cell cycle\n",
    "Cluster 5 is cell cycle G2/M mainly, too many histones\n",
    "Cluster 8 is S to G2 (RRM2 = ribonucleotide reductase regulatory subunit + HISTH1B)\n",
    "Cluster 9 (apart) is interesting, MALAT1 and KCNQ1OT1 are two lncRNAs. I've seen KCNQ1OT1 associated to low qc thus I'm not sure. We might have to remove this cluster, which is also rather unconnected. \n",
    "Cluster 7 is surely a different state\n",
    "Cluster 7 is also a state\n",
    "Cluster 6 again KCNQ1OT1 but less and others... too big to be low qc.\n",
    "Cluster 0 regulating cell cycle progression? CDKN3 regulates (stops) G1 to S\n",
    "Cluster 3 Ribosomal?\n",
    "Cluster 4 Very interesting markers"
   ]
  },
  {
   "cell_type": "code",
   "execution_count": null,
   "id": "559783ec-c7f0-475b-9a12-401b05b94a27",
   "metadata": {},
   "outputs": [],
   "source": [
    "adata.write(\"Time_course_uncorrected_ccc_preprocessed_all_clusters_in.h5ad\")"
   ]
  },
  {
   "cell_type": "markdown",
   "id": "880b00b7-2517-44ed-98ee-7884c1e2053c",
   "metadata": {},
   "source": [
    "# Module score"
   ]
  },
  {
   "cell_type": "markdown",
   "id": "03d7c14f-eae9-4447-8152-d933c182c5e7",
   "metadata": {},
   "source": [
    "I try now to calculate the module score of the different modules in glioblastoma"
   ]
  },
  {
   "cell_type": "code",
   "execution_count": null,
   "id": "6a508c4d-311f-4a23-a9ea-643fa44ea17b",
   "metadata": {},
   "outputs": [],
   "source": [
    "import pandas as pd\n",
    "\n",
    "# Load the tab-delimited file into a pandas DataFrame\n",
    "file_path = 'metamodules.txt'  # Replace with the correct file path\n",
    "modules_df = pd.read_csv(file_path, delimiter='\\t', index_col=0)\n",
    "\n",
    "# Convert the DataFrame into a dictionary of lists\n",
    "# Each column represents a module, and each row represents genes\n",
    "modules_dict = {col: modules_df[col].dropna().tolist() for col in modules_df.columns}\n",
    "\n",
    "# Check the module dictionary (optional)\n",
    "print(modules_dict)\n"
   ]
  },
  {
   "cell_type": "code",
   "execution_count": null,
   "id": "9551292d-f788-4a4c-bd99-cf3eaf060291",
   "metadata": {},
   "outputs": [],
   "source": [
    "import scanpy as sc\n",
    "\n",
    "# Calculate the scores for each module\n",
    "for module_name, gene_list in modules_dict.items():\n",
    "    sc.tl.score_genes(adata, gene_list, score_name=module_name)\n",
    "\n",
    "# Check the adata.obs to see the added module scores (optional)\n",
    "print(adata.obs.head())\n"
   ]
  },
  {
   "cell_type": "code",
   "execution_count": null,
   "id": "825e0112-c253-4c15-9165-30a70fabfa5a",
   "metadata": {},
   "outputs": [],
   "source": [
    "import scanpy as sc\n",
    "import matplotlib.pyplot as plt\n",
    "\n",
    "# List of module names (replace with actual names from your data)\n",
    "module_names = list(modules_dict.keys())\n",
    "\n",
    "# Create subplots: 1 row, N columns (side-by-side)\n",
    "fig, axes = plt.subplots(1, len(module_names), figsize=(5 * len(module_names), 5))\n",
    "\n",
    "# Plot each UMAP in a separate subplot\n",
    "for i, module_name in enumerate(module_names):\n",
    "    sc.pl.umap(adata, color=module_name, cmap='RdYlBu_r', size=40, ax=axes[i], show=False)\n",
    "    axes[i].set_title(f'UMAP: {module_name}')\n",
    "\n",
    "# Show the plots\n",
    "plt.tight_layout()\n",
    "plt.show()\n"
   ]
  },
  {
   "cell_type": "markdown",
   "id": "1b664d90-e800-42a1-b7c7-69a379ad5a2f",
   "metadata": {},
   "source": [
    "Cluster 9 nothing = I'll remove it\n",
    "Cluster 4 AC mainly\n",
    "Cluster 6 OPC/NPC\n",
    "Cluster 7 NPC getting transfored (Cluster 6 seems NPC1)\n",
    "Cluster 0 to Cluster 1 NPC/AC cells going into cell cycle G2M =>\n",
    "Cluster 1 G2/M\n",
    "Cluster 8 OPC going to G1/S =>\n",
    "Cluster 5\n",
    "Cluster 2 NPC1\n",
    "Cluster 3 NPC1?"
   ]
  },
  {
   "cell_type": "code",
   "execution_count": null,
   "id": "b7ac2741-3b5d-43e0-ba8a-221c884ae529",
   "metadata": {},
   "outputs": [],
   "source": [
    "sc.pl.umap(adata,color=\"clusters\", legend_loc='on data')"
   ]
  },
  {
   "cell_type": "markdown",
   "id": "10513de4-8754-4a81-8c5d-cc0b74879e45",
   "metadata": {},
   "source": [
    "NPC1 and NPC2 are similar but increaing to the left of the cluster for NPC2. G1/S and G2/M are cleary to the right in this uncorrected dataset.\n",
    "MES1 is in the midle but undistinguishable, more ore less, with AC and OPC in a way. Could be that those in the middle are the plastic ones?"
   ]
  },
  {
   "cell_type": "code",
   "execution_count": null,
   "id": "3168fd86-dfd9-48d1-8afd-bb47f88aa268",
   "metadata": {},
   "outputs": [],
   "source": [
    "import scanpy as sc\n",
    "import matplotlib.pyplot as plt\n",
    "\n",
    "# List of module names (replace with actual names from your data)\n",
    "module_names = list(modules_dict.keys())\n",
    "\n",
    "# Create subplots: 1 row, N columns (side-by-side)\n",
    "fig, axes = plt.subplots(1, len(module_names), figsize=(5 * len(module_names), 5))\n",
    "\n",
    "# Plot each violin in a separate subplot, grouped by 'sample'\n",
    "for i, module_name in enumerate(module_names):\n",
    "    sc.pl.violin(adata, keys=module_name, groupby='sample', ax=axes[i], show=False, jitter=False, stripplot=False)\n",
    "    axes[i].set_title(f'Violin: {module_name}')\n",
    "\n",
    "# Show the plots\n",
    "plt.tight_layout()\n",
    "plt.show()\n"
   ]
  },
  {
   "cell_type": "markdown",
   "id": "c58762ee-0510-44ed-8db7-20a7f7a3a125",
   "metadata": {},
   "source": [
    "MES1 seems to decrease globally with time while AC, OPC and NPC1 incresases. Cell cycle stimulated at day1"
   ]
  },
  {
   "cell_type": "code",
   "execution_count": null,
   "id": "2173e95b-6e49-44fe-be8b-1755335406c6",
   "metadata": {},
   "outputs": [],
   "source": [
    "import scanpy as sc\n",
    "import matplotlib.pyplot as plt\n",
    "\n",
    "# Define the list of samples and modules (replace with actual names)\n",
    "samples = adata.obs['sample'].unique()  # Assuming 'sample' column holds sample names\n",
    "module_names = list(modules_dict.keys())\n",
    "\n",
    "# Create a grid of subplots: 4 rows (for 4 samples), len(module_names) columns\n",
    "fig, axes = plt.subplots(len(samples), len(module_names), figsize=(5 * len(module_names), 5 * len(samples)))\n",
    "\n",
    "# Loop over each sample and each module to create UMAP plots\n",
    "for i, sample in enumerate(samples):\n",
    "    # Subset the data for the current sample\n",
    "    sample_adata = adata[adata.obs['sample'] == sample]\n",
    "    \n",
    "    for j, module_name in enumerate(module_names):\n",
    "        # Create a UMAP plot for the current sample and module\n",
    "        sc.pl.umap(sample_adata, color=module_name, ax=axes[i, j], cmap='RdYlBu_r', size=40, show=False)\n",
    "        axes[i, j].set_title(f'Sample: {sample}, Module: {module_name}')\n",
    "\n",
    "# Adjust layout and display\n",
    "plt.tight_layout()\n",
    "plt.show()\n"
   ]
  },
  {
   "cell_type": "markdown",
   "id": "dd22db7a-8aed-45c9-bb16-b82f802fa22f",
   "metadata": {},
   "source": [
    "I have to rename the clusters now"
   ]
  },
  {
   "attachments": {},
   "cell_type": "markdown",
   "id": "e3834460-dcb7-4186-94d6-3721698020e8",
   "metadata": {},
   "source": [
    "# Manual annotation (aided by CoPilot)\n",
    "I give copilot the information about the markers (score > 50, log2FC > 0.5 and FDR < 0.05) and the levels of the modules from glioblastoma and I obtained a proposal for the naming of the cluster and some genes supporting it based on literature\n",
    "\n",
    "## Cluster 0\n",
    "Score > 10; FDR < 0.05; log2FC > 0.5\n",
    "\n",
    "Based on the list of genes provided, several of them are associated with cell cycle regulation, proliferation, and glioblastoma biology. Here are some key genes and their roles that support the suggested cluster names:\n",
    "\n",
    "**PTTG1** (Pituitary Tumor-Transforming Gene 1): This gene is involved in the regulation of mitosis and is often overexpressed in various tumors, including glioblastoma1. It supports the idea of a Progenitor-Enriched Cluster due to its role in cell proliferation.\n",
    "\n",
    "**CDKN3** (Cyclin-Dependent Kinase Inhibitor 3): CDKN3 acts as a negative regulator of the cell cycle, which is crucial for maintaining the progenitor state2. This aligns with the Progenitor Signature Cluster.\n",
    "\n",
    "**BIRC5** (Survivin): This gene inhibits apoptosis and promotes cell proliferation, which is common in progenitor cells and cancer3. It supports the Glioblastoma Progenitor Cluster.\n",
    "\n",
    "**CDC20** (Cell Division Cycle 20): CDC20 is essential for the progression of the cell cycle and is often upregulated in cancer4. This gene supports the NPC/OPC Hybrid Cluster due to its role in cell division.\n",
    "\n",
    "**VIM** (Vimentin): Vimentin is a marker of mesenchymal cells and is often upregulated in glioblastoma, indicating a more aggressive and progenitor-like state. This supports the Neuro-Oligo Progenitor Cluster.\n",
    "\n",
    "These genes highlight the proliferative and progenitor-like characteristics of the cluster, making the suggested names biologically relevant.\n",
    "\n",
    "## Cluster 1\n",
    "Score > 20; FDR < 0.05; log2FC > 0.5\n",
    "\n",
    "Given the G2/M glioblastoma signature of your cluster, you could name it “G2/M Proliferative Cluster”. This name reflects the phase of the cell cycle that is highly active in glioblastoma cells.\n",
    "\n",
    "Here are five genes from your list that support this G2/M signature:\n",
    "\n",
    "**CCNB1** (Cyclin B1): Essential for the control of the cell cycle at the G2/M (mitosis) transition.\n",
    "**AURKA** (Aurora Kinase A): Plays a crucial role in cell division by controlling chromosomal segregation.\n",
    "**PLK1** (Polo-Like Kinase 1): Involved in various stages of mitosis, including spindle formation and cytokinesis.\n",
    "**CDC20** (Cell Division Cycle 20): Activates the anaphase-promoting complex/cyclosome (APC/C), which is necessary for the transition from metaphase to anaphase.\n",
    "**MKI67** (Marker of Proliferation Ki-67): A well-known marker for cell proliferation, present during all active phases of the cell cycle (G1, S, G2, and mitosis).\n",
    "These genes are highly relevant to the G2/M phase and are commonly associated with the proliferative nature of glioblastoma cells12.\n",
    "\n",
    "## Cluster 2\n",
    "Score > 10; FDR < 0.05; log2FC > 0.5\n",
    "\n",
    "Given that Cluster 2 expresses the NPC_1 signature and includes the listed genes, you might consider naming it something that reflects its neural progenitor cell (NPC) characteristics and its commitment to this state. Here are a few suggestions:\n",
    "Committed NPC Cluster: This name highlights the cluster’s strong commitment to the neural progenitor cell state.\n",
    "Neural Progenitor Signature Cluster: Emphasizing the high expression of NPC-related genes.\n",
    "NPC-Enriched Cluster: Reflecting the enrichment of NPC markers.\n",
    "Neurogenic Progenitor Cluster: Indicating the neurogenic potential of the cells in this cluster.\n",
    "\n",
    "Here are some key genes from your list that support these names:\n",
    "\n",
    "**SLC38A1** (Solute Carrier Family 38 Member 1): Involved in amino acid transport, which is crucial for cell growth and differentiation.\n",
    "\n",
    "**H1F0** (H1 Histone Family Member 0): Associated with chromatin structure and gene regulation, important for progenitor cell function.\n",
    "\n",
    "**RARRES2** (Retinoic Acid Receptor Responder 2): Plays a role in cell differentiation and proliferation.\n",
    "\n",
    "**IGFBP5** (Insulin-Like Growth Factor Binding Protein 5): Involved in cell growth and survival, often expressed in progenitor cells.\n",
    "\n",
    "**SOX4** (SRY-Box Transcription Factor 4): A transcription factor important for neural progenitor cell development and differentiation.\n",
    "\n",
    "These genes highlight the neural progenitor characteristics of the cluster, making the suggested names biologically relevant.\n",
    "\n",
    "## Cluster 3\n",
    "\n",
    "Here are five non-ribosomal genes from your list that support this name:\n",
    "\n",
    "**SERPINF1** (Serpin Family F Member 1): Known for its role in inhibiting angiogenesis and is often involved in tumor progression.\n",
    "\n",
    "**GAS5** (Growth Arrest Specific 5): A non-coding RNA that regulates cell growth and apoptosis, often implicated in cancer.\n",
    "\n",
    "**NOP53** (Nucleolar Protein 53): Involved in ribosome biogenesis and cell cycle regulation, playing a role in tumorigenesis.\n",
    "\n",
    "**TSPO** (Translocator Protein): Associated with mitochondrial function and often upregulated in glioblastoma.\n",
    "\n",
    "**RACK1** (Receptor for Activated C Kinase 1): Involved in various signaling pathways, including those regulating cell growth and survival.\n",
    "\n",
    "## Cluster 4 \n",
    "\n",
    "score > 10; FDR < 0.05; log2FC > 0.5\n",
    "\n",
    "Given the diverse signatures (OPC, NPC, MES1, and AC) and the central location in the UMAP, this cluster could be indicative of a highly plastic and multipotent cell population. You might consider naming it “Multipotent Progenitor Cluster” to reflect its diverse potential and central role in pseudotime trajectories.\n",
    "\n",
    "Here are five genes from your list that support this multipotent nature:\n",
    "\n",
    "**HES5** (Hes Family BHLH Transcription Factor 5): Involved in the Notch signaling pathway, crucial for maintaining progenitor cell states.\n",
    "\n",
    "**SPARCL1** (Secreted Protein Acidic and Rich in Cysteine-Like 1): Plays a role in cell-matrix interactions and is often upregulated in glioblastoma.\n",
    "\n",
    "**FABP7** (Fatty Acid Binding Protein 7): Linked to neural stem cells and glioblastoma stem-like cells.\n",
    "\n",
    "**IGFBP2** (Insulin-Like Growth Factor Binding Protein 2): Associated with glioblastoma progression and progenitor cell characteristics.\n",
    "\n",
    "**VIM** (Vimentin): A marker for mesenchymal cells, indicating a mesenchymal-like state.\n",
    "These genes highlight the cluster’s potential for differentiation into various cell types, which is characteristic of progenitor cells12.\n",
    "\n",
    "# Cluster 5\n",
    "\n",
    "Here are five genes from your list that support this G1/S signature:\n",
    "\n",
    "**TOP2A** (Topoisomerase II Alpha): Essential for DNA replication and is highly expressed during the G1/S phase.\n",
    "\n",
    "**CDK1** (Cyclin-Dependent Kinase 1): Plays a crucial role in the control of the cell cycle, particularly in the transition from G1 to S phase.\n",
    "\n",
    "**MKI67** (Marker of Proliferation Ki-67): A well-known marker for cell proliferation, present during all active phases of the cell cycle.\n",
    "\n",
    "**AURKB** (Aurora Kinase B): Involved in chromosome segregation and cytokinesis, crucial for cell division.\n",
    "\n",
    "**RRM2** (Ribonucleotide Reductase Regulatory Subunit M2): Plays a key role in DNA synthesis and repair, particularly during the S phase.\n",
    "\n",
    "These genes are indicative of the G1/S phase and are commonly associated with the proliferative nature of glioblastoma cells12.\n",
    "\n",
    "## Cluster 6\n",
    "\n",
    "score > 20; FDR < 0.05\n",
    "\n",
    "Given the high expression of OPC (oligodendrocyte progenitor cells) and NPC1 (neural progenitor cells) signatures, and its proximity to cluster 3 in the UMAP, you could name this cluster “Progenitor Cell Cluster 2” to reflect its progenitor cell characteristics.\n",
    "\n",
    "Here are five non-ribosomal genes from your list that support this name:\n",
    "\n",
    "**SOX11** (SRY-Box Transcription Factor 11): Involved in neural development and often expressed in progenitor cells.\n",
    "\n",
    "**DCX** (Doublecortin): A marker for neural progenitor cells and involved in neuronal migration.\n",
    "\n",
    "**PTPRZ1** (Protein Tyrosine Phosphatase Receptor Type Z1): Associated with neural stem cells and glioblastoma.\n",
    "\n",
    "**CCND2** (Cyclin D2): Plays a role in cell cycle regulation, particularly in progenitor cells.\n",
    "\n",
    "**SOX4** (SRY-Box Transcription Factor 4): Involved in the regulation of embryonic development and cell fate decisions.\n",
    "\n",
    "These genes highlight the cluster’s potential for differentiation into various cell types, which is characteristic of progenitor cells12.\n",
    "\n",
    "## Cluster 7\n",
    "\n",
    "score > 10 ; FDR < 0.05; log2FC > 0.5\n",
    "\n",
    "Given the high expression of the NPC_2 (neural progenitor cell) signature and its location at the extreme end of the UMAP, suggesting a more committed state, you could name this cluster “Committed Neural Progenitor Cluster”.\n",
    "\n",
    "Here are five genes from your list that support this name:\n",
    "\n",
    "**DLX2** (Distal-Less Homeobox 2): Involved in neural development and differentiation.\n",
    "\n",
    "**DCX** (Doublecortin): A marker for neural progenitor cells and involved in neuronal migration.\n",
    "\n",
    "**SOX4** (SRY-Box Transcription Factor 4): Plays a role in the regulation of embryonic development and cell fate decisions.\n",
    "\n",
    "**INSM1** (Insulinoma-Associated 1): A transcription factor involved in neurogenesis.\n",
    "\n",
    "**PBX1** (Pre-B-Cell Leukemia Homeobox 1): Involved in the regulation of developmental processes, including neural development.\n",
    "\n",
    "These genes highlight the cluster’s commitment to neural progenitor cell states and its potential role in glioblastoma biology.\n",
    "\n",
    "## Cluster 8\n",
    "score > 20; FDR < 0.05: log2FC > 1\n",
    "\n",
    "Given the high expression of genes related to the G1/S phase of the cell cycle and DNA replication, you could name this cluster “G1/S Replicative Cluster”. This name reflects the active DNA replication and cell cycle progression characteristic of these cells.\n",
    "\n",
    "Here are five genes from your list that support this G1/S signature:\n",
    "\n",
    "**RRM2** (Ribonucleotide Reductase Regulatory Subunit M2): Plays a key role in DNA synthesis and repair, particularly during the S phase.\n",
    "\n",
    "**TK1** (Thymidine Kinase 1): Involved in DNA synthesis and is a marker for cell proliferation.\n",
    "\n",
    "**MCM10** (Minichromosome Maintenance Complex Component 10): Essential for the initiation of DNA replication.\n",
    "\n",
    "**RAD51** (RAD51 Recombinase): Involved in homologous recombination and DNA repair.\n",
    "\n",
    "**PCNA** (Proliferating Cell Nuclear Antigen): Acts as a processivity factor for DNA polymerase in DNA replication.\n",
    "\n",
    "These genes highlight the cluster’s involvement in DNA replication and cell cycle progression.\n",
    "\n",
    "## Cluster 9\n",
    "\n",
    "It shows less genes and many lncRNAS, such as MALAT1, NEAT1 and KCNQ1OT1\n"
   ]
  },
  {
   "cell_type": "code",
   "execution_count": null,
   "id": "c29701fb-92e5-4009-a584-c438ea2922fc",
   "metadata": {},
   "outputs": [],
   "source": [
    "sc.pl.umap(adata, color=[\"clusters\", \"log1p_total_counts\", \"pct_counts_mt\", \"log1p_n_genes_by_counts\", \"predicted_doublet\"])"
   ]
  },
  {
   "cell_type": "code",
   "execution_count": null,
   "id": "a7949a4e-c3f9-4939-be9e-f5f199601e7d",
   "metadata": {},
   "outputs": [],
   "source": [
    "import scanpy as sc\n",
    "\n",
    "# Assuming you have your AnnData object 'adata_filtered'\n",
    "# Define a dictionary with the old cluster names as keys and new names as values\n",
    "new_cluster_names = {\n",
    "    '0': 'Neural_Progenitors',\n",
    "    '1': 'G2/M Proliferative',\n",
    "    '2': 'Committed NPC_1',\n",
    "    '3': 'NeuroOligo_Progenitors',\n",
    "    '4': 'Multipotent Progenitors',\n",
    "    '5': 'G1/S Proliferative',\n",
    "    '6': 'NeuroOligo_Progenitors_2',\n",
    "    '7': 'Commited NPC_2',\n",
    "    '8': 'G1/S Replicative',\n",
    "    '9': 'lowQC'\n",
    "}\n",
    "\n",
    "# Map the new names to the 'leiden' column in the obs DataFrame\n",
    "adata.obs['clusters_renamed'] = adata.obs['clusters'].map(new_cluster_names)\n",
    "\n",
    "# Plot the UMAP with the new cluster names\n",
    "sc.pl.umap(adata, color='clusters_renamed')\n"
   ]
  },
  {
   "cell_type": "code",
   "execution_count": null,
   "id": "f21f8fbb-dd00-433e-94a9-d42e14c13a9a",
   "metadata": {},
   "outputs": [],
   "source": [
    "# Adjust the font size of the legend\n",
    "sc.pl.umap(adata, color='clusters_renamed', legend_fontsize=8)"
   ]
  },
  {
   "cell_type": "markdown",
   "id": "19710a0e-b267-4500-ba12-2def5fb711a9",
   "metadata": {},
   "source": [
    "# CellRank"
   ]
  },
  {
   "cell_type": "code",
   "execution_count": null,
   "id": "ad2f292e-a2e6-4c00-9f2d-a3c3275210c7",
   "metadata": {},
   "outputs": [],
   "source": [
    "#pip install git+https://github.com/theislab/moscot.git@main\n"
   ]
  },
  {
   "cell_type": "code",
   "execution_count": null,
   "id": "1b328c24-a48d-4029-918e-7aaec33ea06b",
   "metadata": {},
   "outputs": [],
   "source": [
    "#pip install --upgrade cellrank"
   ]
  },
  {
   "cell_type": "code",
   "execution_count": null,
   "id": "94088377-39b8-461d-81d1-149e21f549a6",
   "metadata": {},
   "outputs": [],
   "source": [
    "#pip install --upgrade scvelo"
   ]
  },
  {
   "cell_type": "markdown",
   "id": "89fe191c-1c58-472b-8428-3d10e20633e1",
   "metadata": {},
   "source": [
    "After updating the file \"~/.conda/envs/cellrank2.0/lib/python3.11/site-packages/chex/_src/pytypes.py\" in line 53 with:\n",
    "from typing import Sequence, Any\n",
    "Shape = Sequence[int | Any]"
   ]
  },
  {
   "cell_type": "code",
   "execution_count": null,
   "id": "d5fd9974-527e-490f-8b28-c0b187f2d618",
   "metadata": {},
   "outputs": [],
   "source": [
    "# Downgrade Jax\n",
    "#!pip install --user \"jax[cuda12_pip]==0.4.23\" -f https://storage.googleapis.com/jax-releases/jax_cuda_releases.html"
   ]
  },
  {
   "cell_type": "code",
   "execution_count": null,
   "id": "9896bf2b-174f-4c3a-8bc4-628a4822a9d3",
   "metadata": {},
   "outputs": [],
   "source": [
    "#!pip install scanpy==1.9.3\n",
    "import scanpy as sc\n",
    "import sys\n",
    "import cellrank as cr\n",
    "\n",
    "\n",
    "sc.settings.set_figure_params(frameon=False, dpi=100)\n",
    "cr.settings.verbosity = 2\n",
    "if \"google.colab\" in sys.modules:\n",
    "    !pip install -q git+https://github.com/theislab/cellrank"
   ]
  },
  {
   "cell_type": "code",
   "execution_count": null,
   "id": "109dfd47-cc82-45e3-84c2-cd3d2cfdb21c",
   "metadata": {},
   "outputs": [],
   "source": [
    "adata.write(\"Time_course_uncorrected_ccc_preprocessed_all_clusters_in.h5ad\")\n",
    "# adata = sc.read(\"time_course.h5ad\")\n"
   ]
  },
  {
   "cell_type": "markdown",
   "id": "58125caf-febe-4256-bbaf-0b5545177e64",
   "metadata": {},
   "source": [
    "Now I filter cluster 9 unconnected before doing pseudotime"
   ]
  },
  {
   "cell_type": "code",
   "execution_count": null,
   "id": "f2cbccd7-35b4-4446-8aef-0487eb8e1274",
   "metadata": {},
   "outputs": [],
   "source": [
    "import scanpy as sc\n",
    "\n",
    "# Assuming your adata object is named 'adata'\n",
    "# Filter out cells that are not in cluster '9'\n",
    "adata_filtered = adata[adata.obs['clusters_renamed'] != 'lowQC', :]\n",
    "\n",
    "# Verify the removal\n",
    "print(adata_filtered.obs['clusters_renamed'].unique())\n"
   ]
  },
  {
   "cell_type": "code",
   "execution_count": null,
   "id": "01a20465-07bc-4210-874c-6a1c6cacd4ce",
   "metadata": {},
   "outputs": [],
   "source": [
    "sc.tl.diffmap(adata_filtered)"
   ]
  },
  {
   "cell_type": "code",
   "execution_count": null,
   "id": "a78821be-f89e-4cf3-b822-4f5fe6f277b9",
   "metadata": {},
   "outputs": [],
   "source": [
    "import scvelo as scv\n",
    "root_ixs = 2394  # has been found using `adata.obsm['X_diffmap'][:, 3].argmax()`\n",
    "scv.pl.scatter(\n",
    "    adata_filtered,\n",
    "    basis=\"diffmap\",\n",
    "    c=[\"clusters_renamed\", root_ixs],\n",
    "    legend_loc=\"right\",\n",
    "    components=[\"1, 2\"],\n",
    ")\n",
    "\n",
    "adata_filtered.uns[\"iroot\"] = root_ixs"
   ]
  },
  {
   "cell_type": "code",
   "execution_count": null,
   "id": "b3ebd9d3-9671-444c-b2df-ffef0c39ffa5",
   "metadata": {},
   "outputs": [],
   "source": [
    "sc.tl.dpt(adata_filtered)\n",
    "sc.pl.embedding(\n",
    "    adata_filtered,\n",
    "    basis=\"umap\",\n",
    "    color=[\"dpt_pseudotime\"],\n",
    "    color_map=\"gnuplot2\",\n",
    ")"
   ]
  },
  {
   "cell_type": "code",
   "execution_count": null,
   "id": "71471b7f-fafb-41c1-8139-a5ec4f4c09b7",
   "metadata": {},
   "outputs": [],
   "source": [
    "#!pip install moscot --user\n",
    "import moscot\n",
    "from moscot.problems.time import TemporalProblem\n",
    "\n",
    "import cellrank as cr\n",
    "import scanpy as sc\n",
    "from cellrank.kernels import RealTimeKernel\n",
    "\n",
    "sc.settings.set_figure_params(frameon=False, dpi=100)\n",
    "cr.settings.verbosity = 2"
   ]
  },
  {
   "cell_type": "code",
   "execution_count": null,
   "id": "bb070e3c-d943-4c3c-a49c-3b0b10ee3964",
   "metadata": {},
   "outputs": [],
   "source": [
    "import warnings\n",
    "\n",
    "warnings.simplefilter(\"ignore\", category=UserWarning)"
   ]
  },
  {
   "cell_type": "code",
   "execution_count": null,
   "id": "4ad06978-8e7f-4fb1-bf2d-ede1a18cf24a",
   "metadata": {},
   "outputs": [],
   "source": [
    "# Create a mapping dictionary\n",
    "mapping = {\"day0\": 1, \"day1\": 2, \"day2\": 3, \"day3\": 4}\n",
    "\n",
    "# Apply the mapping to the 'sample' column\n",
    "adata_filtered.obs[\"day_numerical\"] = adata_filtered.obs[\"sample\"].map(mapping)\n"
   ]
  },
  {
   "cell_type": "code",
   "execution_count": null,
   "id": "f15f4d13-52c1-4b89-8ebd-a09c34f9704c",
   "metadata": {},
   "outputs": [],
   "source": [
    "# Compute the force-directed layout\n",
    "sc.tl.draw_graph(adata_filtered, layout='fa')  # 'fa' stands for ForceAtlas2\n",
    "\n",
    "# Plot the result\n",
    "sc.pl.draw_graph(adata_filtered, color='sample')  # Replace 'sample' with your column of interest"
   ]
  },
  {
   "cell_type": "code",
   "execution_count": null,
   "id": "dc30452d-81b7-478f-b79b-7ca9aec3e58d",
   "metadata": {},
   "outputs": [],
   "source": [
    "sc.pl.embedding(\n",
    "    adata_filtered,\n",
    "    basis=\"X_draw_graph_fr\",\n",
    "    color=[\"day_numerical\", \"clusters_renamed\"],\n",
    "    color_map=\"gnuplot\",\n",
    ")"
   ]
  },
  {
   "cell_type": "markdown",
   "id": "4b4b19bc-e9db-40e3-8f6d-16d3bd7e3e2c",
   "metadata": {},
   "source": [
    "# Moscot\n",
    "With moscot, we couple cells across time points using optimal transport (OT), as pioneered by Waddington-OT [Schiebinger et al., 2019]. moscot scales to millions of cells and supports multi-modal data [Klein et al., 2023]. We demonstrate the most basic use-case here: linking a smaller-scale unimodal scRNA-seq dataset across experimental time points.\n",
    "\n",
    "## Note\n",
    "moscot can do much more! To learn how to incorporate multimodal information, millions of cells, and additional spatial information, check out the documentation, including many tutorials. Additionally, to include lineage-traced data, check out the moscot-lineage (moslin) tutorial.\n",
    "\n",
    "Importantly, everything we demonstrate here works exactly the same if you include these additional data modalities! The couplings just get better, and additional downstream analysis becomes available.\n",
    "The first step is to set up a TemporalProblem. If you have additional spatial or linegae information, you can use the SpatioTemporalProblem or the LineageProblem, respectively."
   ]
  },
  {
   "cell_type": "code",
   "execution_count": null,
   "id": "79a09aec-e8f4-4c08-b8c6-66662bc36e36",
   "metadata": {},
   "outputs": [],
   "source": [
    "tp = TemporalProblem(adata_filtered)"
   ]
  },
  {
   "cell_type": "markdown",
   "id": "aee90358-7257-4399-81a8-6de584367b20",
   "metadata": {},
   "source": [
    "Next, we adjust the marginals for cellular growth- and death using score_genes_for_marginals()."
   ]
  },
  {
   "cell_type": "code",
   "execution_count": null,
   "id": "8c2e7019-f6ed-4a9e-b8e6-b9b93733bef6",
   "metadata": {},
   "outputs": [],
   "source": [
    "tp = tp.score_genes_for_marginals(\n",
    "    gene_set_proliferation=\"human\", gene_set_apoptosis=\"human\"\n",
    ")"
   ]
  },
  {
   "cell_type": "markdown",
   "id": "63c3fb92-79eb-4f47-8f30-a4e7a18277a6",
   "metadata": {},
   "source": [
    "Visualize the computed proliferation and apoptosis scores in the embedding."
   ]
  },
  {
   "cell_type": "code",
   "execution_count": null,
   "id": "a506cd06-bdae-4d7f-98ac-58c486432705",
   "metadata": {},
   "outputs": [],
   "source": [
    "sc.pl.embedding(\n",
    "    adata_filtered, basis=\"X_draw_graph_fr\", color=[\"clusters_renamed\", \"proliferation\", \"apoptosis\"]\n",
    ")"
   ]
  },
  {
   "cell_type": "markdown",
   "id": "f74411b7-4dd3-4eaa-b95b-0ed0cc11d8da",
   "metadata": {},
   "source": [
    "Following the original Waddington OT publication, we use local PCAs, computed separately for each pair of time points, to calulate distances among cells [Schiebinger et al., 2019]. Accordingly, we prepare the TemporalProblem without passing a joint_attr, this automatically computes local PCAs."
   ]
  },
  {
   "cell_type": "code",
   "execution_count": null,
   "id": "8ecdd466-3987-4f14-9709-1b0bf0eb4d19",
   "metadata": {},
   "outputs": [],
   "source": [
    "tp = tp.prepare(time_key=\"day_numerical\")"
   ]
  },
  {
   "cell_type": "markdown",
   "id": "be28190b-182c-41fc-ae15-38830444ba71",
   "metadata": {},
   "source": [
    "In the final step, we solve one OT problem per time point pair, probabilistically matching early to late cells [Peyré et al., 2019]."
   ]
  },
  {
   "cell_type": "code",
   "execution_count": null,
   "id": "e651e9e9-54a0-4c60-9751-00b4fc3155fd",
   "metadata": {},
   "outputs": [],
   "source": [
    "# I stop here to work on tomorrow\n",
    "adata_filtered.write(\"time_course_cluster_9_out.h5ad\")"
   ]
  },
  {
   "cell_type": "code",
   "execution_count": null,
   "id": "4a1f061d-5d60-4d65-94b7-5eaea970766f",
   "metadata": {},
   "outputs": [],
   "source": [
    "# I save the tp object with pickle\n",
    "import pickle\n",
    "\n",
    "# Save the object to a file\n",
    "with open('tp.pkl', 'wb') as f:\n",
    "    pickle.dump(tp, f)\n",
    "\n",
    "\n"
   ]
  },
  {
   "cell_type": "code",
   "execution_count": null,
   "id": "84392f67-2d22-41ce-8393-c2f7944c4b1f",
   "metadata": {},
   "outputs": [],
   "source": [
    "# I start over again today\n",
    "# Load libraries\n",
    "import numpy as np\n",
    "import pandas as pd\n",
    "import scanpy as sc\n",
    "import anndata as ad\n",
    "import scvelo as scv\n",
    "import sys\n",
    "import cellrank as cr\n",
    "\n",
    "sc.settings.verbosity = 3\n",
    "sc.logging.print_header()\n",
    "sc.settings.set_figure_params(dpi=100, facecolor='white', frameon=False)\n",
    "cr.settings.verbosity = 2\n",
    "\n",
    "if \"google.colab\" in sys.modules:\n",
    "    !pip install -q git+https://github.com/theislab/cellrank\n",
    "\n",
    "# Load adata_filtered\n",
    "adata_filtered = sc.read(\"time_course_cluster_9_out.h5ad\")\n",
    "# Run to load tp\n",
    "import pickle\n",
    "\n",
    "# Load the object from the file\n",
    "with open('tp.pkl', 'rb') as f:\n",
    "    tp = pickle.load(f)\n",
    "\n",
    "print(tp)\n"
   ]
  },
  {
   "cell_type": "code",
   "execution_count": null,
   "id": "dbbebb47-6595-43f9-b18b-2ed6b35605df",
   "metadata": {},
   "outputs": [],
   "source": [
    "#!pip install --upgrade jax jaxlib\n",
    "#!pip install \"jax[cuda12_pip]==0.4.23\" -f https://storage.googleapis.com/jax-releases/jax_cuda_releases.html\n"
   ]
  },
  {
   "cell_type": "code",
   "execution_count": null,
   "id": "b4cd8dbc-162a-4906-9e63-73d55dee4352",
   "metadata": {},
   "outputs": [],
   "source": [
    "tp = tp.solve(epsilon=1e-3, tau_a=0.95, scale_cost=\"mean\",)\n"
   ]
  },
  {
   "cell_type": "markdown",
   "id": "1cd2dd09-1d5e-4168-a763-a214397e076e",
   "metadata": {},
   "source": [
    "Above, epsilon and tau_a control the amount of entropic regularization and unbalancedness on the source marginal, respectively. Higher entropic regularization speeds up the optimization and improves statistical properties of the solution [Cuturi, 2013]; unbalancedness makes the solution more robust with respect to uncertain cellular growth rates and biased cell sampling [Chizat et al., 2018, Schiebinger et al., 2019]."
   ]
  },
  {
   "cell_type": "markdown",
   "id": "d0525ca1-6e09-4d0a-b455-0fc891803ca7",
   "metadata": {},
   "source": [
    "# Set up the RealTimeKernel\n",
    "The RealTimeKernel is CellRank’s interface with time-course data; it can load cellular couplings computed with moscot or Waddington OT."
   ]
  },
  {
   "cell_type": "code",
   "execution_count": null,
   "id": "fde23587-e361-44d5-b306-02e20012a202",
   "metadata": {},
   "outputs": [],
   "source": [
    "from moscot.problems.time import TemporalProblem\n",
    "\n",
    "# import cellrank as cr\n",
    "# import scanpy as sc\n",
    "from cellrank.kernels import RealTimeKernel\n",
    "\n",
    "sc.settings.set_figure_params(frameon=False, dpi=100)\n",
    "cr.settings.verbosity = 2\n",
    "tmk = RealTimeKernel.from_moscot(tp)\n",
    "print(tmk)"
   ]
  },
  {
   "cell_type": "markdown",
   "id": "16b3dd03-3daa-4666-bc44-fa5245cb3b3b",
   "metadata": {},
   "source": [
    "To get from a set of OT transport maps to a Markov chain describing a biological system, we do the following:\n",
    "\n",
    "we sparsify OT transport maps by removing entries below a certain threshold; entropic regularization yields dense matrices which would make CellRank analysis very slow.\n",
    "we use OT transport maps and molecular similarity to model transitions across and within time points, respectively.\n",
    "we row-normalize the resulting cell-cell transition matrix (including all time points) and construct the Markov chain."
   ]
  },
  {
   "cell_type": "code",
   "execution_count": null,
   "id": "4be3d965-ff8d-40ea-81d2-07214919a926",
   "metadata": {},
   "outputs": [],
   "source": [
    "tmk.compute_transition_matrix(self_transitions=\"all\", conn_weight=0.2, threshold=\"auto\")"
   ]
  },
  {
   "cell_type": "markdown",
   "id": "0dc092a1-780f-4831-9824-7b546ecc396f",
   "metadata": {},
   "source": [
    "# Visualize the recovered dynamics\n",
    "We can visualize the cellular dynamics described by this Markov chain by sampling random walks."
   ]
  },
  {
   "cell_type": "code",
   "execution_count": null,
   "id": "7de35fe4-f09d-41fb-b26f-97d42955f792",
   "metadata": {},
   "outputs": [],
   "source": [
    "import sys\n",
    "import matplotlib.pyplot as plt\n",
    "\n",
    "tmk.plot_random_walks(\n",
    "    max_iter=500,\n",
    "    start_ixs={\"day_numerical\": 1},\n",
    "    basis=\"X_draw_graph_fr\",\n",
    "    seed=0,\n",
    "    dpi=150,\n",
    "    size=30,\n",
    "    save = \"tmk_random_walks.pdf\"\n",
    ")"
   ]
  },
  {
   "cell_type": "markdown",
   "id": "7a49cc82-4619-48bd-987c-fb64d7ba3eec",
   "metadata": {},
   "source": [
    "Black and yellow dots denote random walks starting and finishing points, respectively. Random walks mostly finish in the iPSC, Neural, Stromal, Trophoblast and Epithelial cell sets.\n",
    "\n",
    "Another way to visualize the reconstructed dynamics is by plotting the probability mass flow in time [Mittnenzweig et al., 2021].\n",
    "\n",
    "We should see black before yellow, but this is not the case..."
   ]
  },
  {
   "cell_type": "code",
   "execution_count": null,
   "id": "45c98070-9fb5-41b3-867e-96f41e4964fe",
   "metadata": {},
   "outputs": [],
   "source": [
    "tmk.plot_random_walks(\n",
    "    max_iter=500,\n",
    "    start_ixs={\"day_numerical\": 1},\n",
    "    basis=\"umap\",\n",
    "    seed=0,\n",
    "    dpi=150,\n",
    "    size=30,\n",
    "    save = \"tmk_random_walks.pdf\"\n",
    ")"
   ]
  },
  {
   "cell_type": "markdown",
   "id": "96a40e6e-5301-4104-939d-77d88625c524",
   "metadata": {},
   "source": [
    "Another way to visualize the reconstructed dynamics is by plotting the probability mass flow in time [Mittnenzweig et al., 2021]."
   ]
  },
  {
   "cell_type": "code",
   "execution_count": null,
   "id": "8e09c8b7-f1a6-427d-b677-f0b65c58c3d5",
   "metadata": {},
   "outputs": [],
   "source": [
    "leiden_clusters = adata.obs['clusters_renamed'].unique()\n",
    "# Convert to a list\n",
    "leiden_clusters_list = leiden_clusters.tolist()\n",
    "\n",
    "print(leiden_clusters)\n",
    "ax = tmk.plot_single_flow(\n",
    "    cluster_key=\"clusters_renamed\",\n",
    "    time_key=\"day_numerical\",\n",
    "    cluster=\"Multipotent Progenitors\",\n",
    "    min_flow=0.1,\n",
    "    xticks_step_size=4,\n",
    "    show=False,\n",
    "    clusters=leiden_clusters_list, save = \"tmk_plot_single_flow.pdf\"\n",
    ")\n",
    "\n",
    "_ = ax.set_xticklabels(ax.get_xticklabels(), rotation=90)"
   ]
  },
  {
   "cell_type": "code",
   "execution_count": null,
   "id": "92629aa8-6d32-47e3-bdb2-3e620cae8f72",
   "metadata": {},
   "outputs": [],
   "source": [
    "sc.pl.umap(adata_filtered, color = \"clusters_renamed\")"
   ]
  },
  {
   "cell_type": "code",
   "execution_count": null,
   "id": "4a04e8b2-372e-47c2-9a3d-2afd5bcbfa99",
   "metadata": {},
   "outputs": [],
   "source": [
    "g = cr.estimators.GPCCA(tmk)\n",
    "print(g)"
   ]
  },
  {
   "cell_type": "code",
   "execution_count": null,
   "id": "ca545186-1b2b-480d-9a82-da6e6721dee5",
   "metadata": {},
   "outputs": [],
   "source": [
    "g.fit(cluster_key=\"clusters_renamed\", n_states=[4, 12])\n",
    "g.plot_macrostates(which=\"all\", discrete=True, legend_loc=\"right\", s=100)"
   ]
  },
  {
   "cell_type": "code",
   "execution_count": null,
   "id": "4627c863-d16a-4624-93e0-6f0e9d9013e9",
   "metadata": {},
   "outputs": [],
   "source": [
    "g.predict_terminal_states()\n",
    "g.plot_macrostates(which=\"terminal\", legend_loc=\"right\", s=100)"
   ]
  },
  {
   "cell_type": "code",
   "execution_count": null,
   "id": "59baa062-0b0a-4ccd-9f9d-08acbbf7f70d",
   "metadata": {},
   "outputs": [],
   "source": [
    "g.plot_macrostates(which=\"terminal\", discrete=False)"
   ]
  },
  {
   "cell_type": "code",
   "execution_count": null,
   "id": "a5124d2a-e4cb-4cd1-97d5-b20453ae6e71",
   "metadata": {},
   "outputs": [],
   "source": [
    "g.predict_initial_states()\n",
    "g.plot_macrostates(which=\"initial\", legend_loc=\"right\", s=100)"
   ]
  },
  {
   "cell_type": "code",
   "execution_count": null,
   "id": "b66b5e8d-ce92-40d1-b185-bed8c76212e0",
   "metadata": {},
   "outputs": [],
   "source": [
    "sc.pl.embedding(\n",
    "    adata_filtered,\n",
    "    basis=\"umap\",\n",
    "    color=[\"CD44\", \"CD22\", \"CCNB1\", \"TOP2A\", \"EGFR\", \"VIM\"],\n",
    "    size=50,\n",
    ")"
   ]
  },
  {
   "cell_type": "code",
   "execution_count": null,
   "id": "bc353126-cc90-4ee1-88ec-8a895ebfcb8d",
   "metadata": {},
   "outputs": [],
   "source": [
    "g.plot_coarse_T()\n",
    "plt.show()"
   ]
  },
  {
   "cell_type": "markdown",
   "id": "06d69493-69f0-414a-bfad-187537a02571",
   "metadata": {},
   "source": [
    "# Try PseudotimeKernel"
   ]
  },
  {
   "cell_type": "code",
   "execution_count": null,
   "id": "c0544336-f0e6-4abf-97e7-22bccd16d28b",
   "metadata": {},
   "outputs": [],
   "source": [
    "pk = cr.kernels.PseudotimeKernel(adata_filtered, time_key=\"dpt_pseudotime\")\n",
    "pk.compute_transition_matrix()\n",
    "\n",
    "print(pk)"
   ]
  },
  {
   "cell_type": "code",
   "execution_count": null,
   "id": "2ec8c488-5fd5-4e7d-bea2-41235ef397c1",
   "metadata": {},
   "outputs": [],
   "source": [
    "pk.plot_projection(basis=\"umap\", recompute=True, color=\"clusters_renamed\")"
   ]
  },
  {
   "cell_type": "code",
   "execution_count": null,
   "id": "1481c279-3a6e-4838-a996-4cdd38775777",
   "metadata": {},
   "outputs": [],
   "source": [
    "g = cr.estimators.GPCCA(pk)\n",
    "print(g)"
   ]
  },
  {
   "cell_type": "code",
   "execution_count": null,
   "id": "6972a6ef-3809-443f-b25f-d7beb577bcce",
   "metadata": {},
   "outputs": [],
   "source": [
    "g.fit(cluster_key=\"clusters_renamed\", n_states=[4, 12])\n",
    "g.plot_macrostates(which=\"all\", discrete=True, legend_loc=\"right\", s=100)"
   ]
  },
  {
   "cell_type": "code",
   "execution_count": null,
   "id": "88ca4436-96dc-41be-a1b4-71d8dd1f29aa",
   "metadata": {},
   "outputs": [],
   "source": [
    "g.predict_terminal_states()\n",
    "g.plot_macrostates(which=\"terminal\", legend_loc=\"right\", s=100)"
   ]
  },
  {
   "cell_type": "code",
   "execution_count": null,
   "id": "c5ee6d5d-285e-4cd7-8069-bf49e81c8f9c",
   "metadata": {},
   "outputs": [],
   "source": [
    "g.plot_macrostates(which=\"terminal\", discrete=False)"
   ]
  },
  {
   "cell_type": "code",
   "execution_count": null,
   "id": "3b8e158f-c17a-4800-a9e5-f31abe85c1cf",
   "metadata": {},
   "outputs": [],
   "source": [
    "g.predict_initial_states(allow_overlap=True)\n",
    "g.plot_macrostates(which=\"initial\", legend_loc=\"right\", s=100)"
   ]
  },
  {
   "cell_type": "markdown",
   "id": "3bb9725a-a6bb-4414-8180-61bfab24825c",
   "metadata": {},
   "source": [
    "Since I need the Multipotent Progenitors is taken as initial state, I set the others as terminal removing the 'Multipontent Progenitors' from the list"
   ]
  },
  {
   "cell_type": "code",
   "execution_count": null,
   "id": "2e7cf96d-e1bf-43bb-99b7-840d09496d86",
   "metadata": {},
   "outputs": [],
   "source": [
    "g.set_terminal_states(states=['G1/S Replicative_1', 'Committed NPC_1', 'Commited NPC_2', 'G2/M Proliferative', 'G1/S Replicative_2'])"
   ]
  },
  {
   "cell_type": "code",
   "execution_count": null,
   "id": "d77f8f55-7d00-41e0-bfe4-61b6f6ec98ba",
   "metadata": {},
   "outputs": [],
   "source": [
    "g.plot_coarse_T()\n",
    "plt.show()"
   ]
  },
  {
   "cell_type": "code",
   "execution_count": null,
   "id": "671c13ff-30fb-4dd4-9a65-ee9d977d9d49",
   "metadata": {},
   "outputs": [],
   "source": [
    "g.plot_macrostate_composition(key=\"clusters_renamed\", figsize=(7, 4))\n",
    "plt.show()"
   ]
  },
  {
   "cell_type": "code",
   "execution_count": null,
   "id": "ef4311ef-25c1-4479-9393-d02953ea30fd",
   "metadata": {},
   "outputs": [],
   "source": [
    "g.compute_fate_probabilities()\n",
    "g.plot_fate_probabilities(same_plot=False)"
   ]
  },
  {
   "cell_type": "code",
   "execution_count": null,
   "id": "145e081b-7e53-4048-8f33-b00d79ff2d75",
   "metadata": {},
   "outputs": [],
   "source": [
    "g.plot_fate_probabilities(same_plot=True)"
   ]
  },
  {
   "cell_type": "code",
   "execution_count": null,
   "id": "e585a112-560e-4029-87b8-ae82c69a6f10",
   "metadata": {},
   "outputs": [],
   "source": [
    "cr.pl.circular_projection(adata_filtered, keys=[\"clusters_renamed\"], legend_loc=\"right\")\n",
    "plt.show()"
   ]
  },
  {
   "cell_type": "markdown",
   "id": "1387a634-5ef8-46c7-b437-a11dd7cb1364",
   "metadata": {},
   "source": [
    "## Commited NPC1 lineage drivers"
   ]
  },
  {
   "cell_type": "code",
   "execution_count": null,
   "id": "56d17f24-e5a9-4050-a956-0f47037f50f8",
   "metadata": {},
   "outputs": [],
   "source": [
    "driver_clusters = ['G1/S Replicative', 'Committed NPC_1', 'Commited NPC_2', 'G2/M Proliferative', 'G1/S Replicative']\n",
    "\n",
    "delta_df = g.compute_lineage_drivers(\n",
    "    lineages=[\"Committed NPC_1\"], cluster_key=\"clusters_renamed\", clusters=driver_clusters\n",
    ")\n",
    "delta_df.head(10)"
   ]
  },
  {
   "cell_type": "code",
   "execution_count": null,
   "id": "4a06fca0-7c32-4bd9-ad1c-9392395f3c99",
   "metadata": {},
   "outputs": [],
   "source": [
    "adata_filtered.obs[\"fate_probabilities_Committed NPC_1\"] = g.fate_probabilities[\"Committed NPC_1\"].X.flatten()\n",
    "\n",
    "sc.pl.embedding(\n",
    "    adata_filtered,\n",
    "    basis=\"umap\",\n",
    "    color=[\"fate_probabilities_Committed NPC_1\"] + list(delta_df.index[:8]),\n",
    "    color_map=\"viridis\",\n",
    "    s=50,\n",
    "    ncols=3,\n",
    "    vmax=\"p96\",\n",
    ")"
   ]
  },
  {
   "cell_type": "code",
   "execution_count": null,
   "id": "66a4e7f9-9ebd-477d-9c02-5bad2aaecc4c",
   "metadata": {},
   "outputs": [],
   "source": [
    "driver_clusters = ['G1/S Replicative', 'Committed NPC_1', 'Commited NPC_2', 'G2/M Proliferative', 'G1/S Replicative']\n",
    "\n",
    "delta_df = g.compute_lineage_drivers(\n",
    "    lineages=[\"Commited NPC_2\"], cluster_key=\"clusters_renamed\", clusters=driver_clusters\n",
    ")\n",
    "delta_df.head(10)"
   ]
  },
  {
   "cell_type": "code",
   "execution_count": null,
   "id": "bed2ed15-f050-4561-be1c-baf1e8d426f0",
   "metadata": {},
   "outputs": [],
   "source": [
    "adata_filtered.obs[\"fate_probabilities_Commited NPC_2\"] = g.fate_probabilities[\"Commited NPC_2\"].X.flatten()\n",
    "\n",
    "sc.pl.embedding(\n",
    "    adata_filtered,\n",
    "    basis=\"umap\",\n",
    "    color=[\"fate_probabilities_Commited NPC_2\"] + list(delta_df.index[:8]),\n",
    "    color_map=\"viridis\",\n",
    "    s=50,\n",
    "    ncols=3,\n",
    "    vmax=\"p96\",\n",
    ")"
   ]
  },
  {
   "cell_type": "code",
   "execution_count": null,
   "id": "376d140e-7d4c-496c-a452-dda77c953a75",
   "metadata": {},
   "outputs": [],
   "source": [
    "g.lineage_drivers"
   ]
  },
  {
   "cell_type": "code",
   "execution_count": null,
   "id": "4f6dbd36-d56c-4c78-b890-6dd2898c8099",
   "metadata": {},
   "outputs": [],
   "source": [
    "import pandas as pd\n",
    "df = pd.DataFrame(g.lineage_drivers)\n",
    "df.to_csv('lineage_drivers.csv', index=True)\n",
    "\n"
   ]
  },
  {
   "cell_type": "code",
   "execution_count": null,
   "id": "3ebdbcfd-d5ed-497b-a13d-a5c8cad6d6dd",
   "metadata": {},
   "outputs": [],
   "source": [
    "# compute driver genes\n",
    "delta_df = g.compute_lineage_drivers(\n",
    "    lineages=[\"Committed NPC_1\",\"Commited NPC_2\"], cluster_key=\"clusters_renamed\", clusters=driver_clusters\n",
    ")\n",
    "\n",
    "# define set of genes to annotate\n",
    "Committed_NPC_2_genes = [\"SCG2\", \"DLX2\",\"DAAM1\",\"IGFBP5\",\"DLX1\",\"MIAT\",\"RND3\"]\n",
    "Committed_NPC_1_genes = [\"REC8\", \"SLC38A1\",\"RGS16\",\"RIMS3\",\"SERPINF1\",\"ARGLU1\",\"AUXG01000058.1\",\"GATM\"]\n",
    "\n",
    "genes_oi = {\n",
    "    \"Committed NPC_1_genes\": Committed_NPC_1_genes,\n",
    "    \"Commited NPC_2_genes\": Committed_NPC_2_genes,\n",
    "}\n",
    "\n",
    "# make sure all of these exist in AnnData\n",
    "assert [\n",
    "    gene in adata_filtered.var_names for genes in genes_oi.values() for gene in genes\n",
    "], \"Did not find all genes\"\n",
    "\n",
    "# compute mean gene expression across all cells\n",
    "adata_filtered.var[\"mean expression\"] = adata_filtered.X.A.mean(axis=0)\n",
    "\n",
    "# visualize in a scatter plot\n",
    "g.plot_lineage_drivers_correlation(\n",
    "    lineage_x=\"Committed NPC_1\",\n",
    "    lineage_y=\"Commited NPC_2\",\n",
    "    adjust_text=True,\n",
    "    gene_sets=genes_oi,\n",
    "    color=\"mean expression\",\n",
    "    legend_loc=\"none\",\n",
    "    figsize=(5, 5),\n",
    "    dpi=150,\n",
    "    fontsize=9,\n",
    "    size=50\n",
    ")\n",
    "plt.show()"
   ]
  },
  {
   "cell_type": "code",
   "execution_count": null,
   "id": "70a81fd0-f2f0-4cb2-8e10-f3a5831196dc",
   "metadata": {},
   "outputs": [],
   "source": [
    "# I pickle all the objects\n",
    "# I save the tp object with pickle\n",
    "import pickle\n",
    "\n",
    "# Save the object to a file\n",
    "with open('g.pkl', 'wb') as f:\n",
    "    pickle.dump(g, f)\n",
    "\n",
    "with open('pk.pkl', 'wb') as f:\n",
    "    pickle.dump(pk, f)\n",
    "\n",
    "\n",
    "\n",
    "adata_filtered.write(\"time_course_cluster_9_out.h5ad\")"
   ]
  },
  {
   "cell_type": "code",
   "execution_count": null,
   "id": "db6ab21b-812e-4178-a93b-a0e2bba735c9",
   "metadata": {},
   "outputs": [],
   "source": [
    "# I'll start from here\n",
    "import os\n",
    "os.environ[\"CFLAGS\"] = \"-std=c99\"\n",
    "#!pip install rpy2"
   ]
  },
  {
   "cell_type": "code",
   "execution_count": null,
   "id": "f6ba895e-16c5-4bd3-9ec6-4bb58696b7c0",
   "metadata": {},
   "outputs": [],
   "source": [
    "# pip install --upgrade rpy2\n"
   ]
  },
  {
   "cell_type": "code",
   "execution_count": null,
   "id": "5efd099f-5d10-4ae4-8c84-a4f8a678cf19",
   "metadata": {},
   "outputs": [],
   "source": [
    "# Load Libraries\n",
    "import pickle\n",
    "from moscot.problems.time import TemporalProblem\n",
    "import cellrank as cr\n",
    "import scanpy as sc\n",
    "from cellrank.kernels import RealTimeKernel\n",
    "import rpy2\n",
    "\n",
    "#Load adata_filtered\n",
    "adata_filtered = sc.read(\"time_course_cluster_9_out.h5ad\")\n",
    "# Load pickle objects g,pk\n",
    "# Run to load tp\n",
    "\n",
    "\n",
    "# Load the object from the file\n",
    "with open('g.pkl', 'rb') as f:\n",
    "       g = pickle.load(f)\n",
    "\n",
    "with open('pk.pkl', 'rb') as f:\n",
    "   pk = pickle.load(f)\n",
    "    \n",
    "print(g,pk)\n"
   ]
  },
  {
   "cell_type": "code",
   "execution_count": null,
   "id": "b1c7726a-382e-46d9-9208-0fb1e3468c53",
   "metadata": {},
   "outputs": [],
   "source": [
    "import matplotlib.pyplot as plt"
   ]
  },
  {
   "cell_type": "code",
   "execution_count": null,
   "id": "7d4a9c17-cf11-40f5-9320-37bee5710f6c",
   "metadata": {},
   "outputs": [],
   "source": [
    "#model = cr.models.GAMR(adata_filtered, n_knots=6, smoothing_penalty=10.0)\\\n",
    "model = cr.models.GAM(adata_filtered, distribution='gaussian', link= 'identity')"
   ]
  },
  {
   "cell_type": "code",
   "execution_count": null,
   "id": "b5353497-188c-4815-a1ab-a9ed0e4df610",
   "metadata": {},
   "outputs": [],
   "source": [
    "model"
   ]
  },
  {
   "cell_type": "code",
   "execution_count": null,
   "id": "8c2aad3e-8c75-40b6-b291-b1a09d9a831e",
   "metadata": {},
   "outputs": [],
   "source": [
    "# I need to install MAGIG"
   ]
  },
  {
   "cell_type": "code",
   "execution_count": null,
   "id": "fdd8701f-cc75-4e4e-b507-f2e2cbaaebcb",
   "metadata": {},
   "outputs": [],
   "source": [
    "# uncompatibility issue\n",
    "#  !pip install pandas==1.5.3 # moscot needs > 2\n",
    "# I try with the other\n",
    "#!pip install --upgrade fcsparser"
   ]
  },
  {
   "cell_type": "code",
   "execution_count": null,
   "id": "76cc35c9-2603-427e-82f1-d57938d1e729",
   "metadata": {},
   "outputs": [],
   "source": [
    "#!pip install --user magic-impute"
   ]
  },
  {
   "cell_type": "code",
   "execution_count": null,
   "id": "60e91336-88d6-41b7-9518-6f986c775eb4",
   "metadata": {},
   "outputs": [],
   "source": [
    "#sc.external.pp.magic(adata_filtered,n_jobs=8)"
   ]
  },
  {
   "cell_type": "code",
   "execution_count": null,
   "id": "e29cbbec-bafe-4599-99f4-4262ab80ff13",
   "metadata": {},
   "outputs": [],
   "source": [
    "cr.pl.gene_trends(\n",
    "    adata_filtered,\n",
    "    model=model,\n",
    "    #data_key=\"magic_imputed_data\",\n",
    "    genes=Committed_NPC_2_genes,\n",
    "    same_plot=True,\n",
    "    ncols=3,\n",
    "    time_key=\"dpt_pseudotime\",\n",
    "    hide_cells=True,\n",
    "    weight_threshold=(1e-3, 1e-3),\n",
    ")"
   ]
  },
  {
   "cell_type": "code",
   "execution_count": null,
   "id": "a348352d-0c9e-4559-8ee4-c6710fa04b15",
   "metadata": {},
   "outputs": [],
   "source": [
    "# compute putative drivers for the Beta trajectory\n",
    "cr.pl.gene_trends(\n",
    "    adata_filtered,\n",
    "    model=model,\n",
    "    #data_key=\"magic_imputed_data\",\n",
    "    genes=Committed_NPC_1_genes,\n",
    "    same_plot=True,\n",
    "    ncols=3,\n",
    "    time_key=\"dpt_pseudotime\",\n",
    "    hide_cells=True,\n",
    "    weight_threshold=(1e-3, 1e-3),\n",
    ")"
   ]
  },
  {
   "cell_type": "code",
   "execution_count": null,
   "id": "3598ad09-3af7-4e11-97b4-95b4d5cc6efc",
   "metadata": {},
   "outputs": [],
   "source": [
    "print(Committed_NPC_2_genes,Committed_NPC_1_genes)"
   ]
  },
  {
   "cell_type": "code",
   "execution_count": null,
   "id": "901189d7-75ec-4ea0-a389-b77e6f57ebde",
   "metadata": {},
   "outputs": [],
   "source": [
    "sc.pl.umap(adata_filtered, color=\"sample\")"
   ]
  },
  {
   "cell_type": "code",
   "execution_count": null,
   "id": "1986bb72-756f-4b43-a369-af17aab9d0e9",
   "metadata": {},
   "outputs": [],
   "source": [
    "sc.pl.violin(adata_filtered, keys=[\"dpt_pseudotime\"], groupby=\"clusters_renamed\", rotation=90)"
   ]
  },
  {
   "cell_type": "code",
   "execution_count": null,
   "id": "5a41e5ba-f60b-45fe-9481-01463e36e47a",
   "metadata": {},
   "outputs": [],
   "source": [
    "# compute putative drivers for the Beta trajectory\n",
    "Committed_NPC_1_drivers = g.compute_lineage_drivers(lineages=\"Committed NPC_1\")\n",
    "\n",
    "# plot heatmap\n",
    "cr.pl.heatmap(\n",
    "    adata_filtered,\n",
    "    model=model,  # use the model from before\n",
    "    lineages=\"Committed NPC_1\",\n",
    "    cluster_key=\"clusters_renamed\",\n",
    "    show_fate_probabilities=True,\n",
    "    #data_key=\"magic_imputed_data\",\n",
    "    genes=Committed_NPC_1_drivers.head(40).index,\n",
    "    time_key=\"dpt_pseudotime\",\n",
    "    figsize=(12, 10),\n",
    "    show_all_genes=True,\n",
    "    weight_threshold=(1e-3, 1e-3),\n",
    ")"
   ]
  },
  {
   "cell_type": "code",
   "execution_count": null,
   "id": "9d36976e-a910-4f96-a6f7-0dba33458789",
   "metadata": {},
   "outputs": [],
   "source": [
    "# compute putative drivers for the Beta trajectory\n",
    "Commited_NPC_2_drivers = g.compute_lineage_drivers(lineages=\"Commited NPC_2\")\n",
    "\n",
    "# plot heatmap\n",
    "cr.pl.heatmap(\n",
    "    adata_filtered,\n",
    "    model=model,  # use the model from before\n",
    "    lineages=\"Commited NPC_2\",\n",
    "    cluster_key=\"clusters_renamed\",\n",
    "    show_fate_probabilities=True,\n",
    "    #data_key=\"magic_imputed_data\",\n",
    "    genes=Commited_NPC_2_drivers.head(40).index,\n",
    "    time_key=\"dpt_pseudotime\",\n",
    "    figsize=(12, 10),\n",
    "    show_all_genes=True,\n",
    "    weight_threshold=(1e-3, 1e-3),\n",
    ")"
   ]
  },
  {
   "cell_type": "markdown",
   "id": "9af5198a-5705-4856-abd8-99cad364c602",
   "metadata": {},
   "source": [
    "## DLX1 and DLX2 in NPC2\n",
    "\n",
    "DLX1 and DLX2 are homeobox transcription factors that play crucial roles in the development and differentiation of neural cells. Their overexpression in NPC2 glioblastoma signatures, as opposed to NPC1, could be due to several reasons:\n",
    "Neural Differentiation Pathways: DLX1 and DLX2 are involved in the differentiation of neural progenitor cells into specific types of neurons, particularly GABAergic interneurons1. The overexpression of these genes in NPC2 might indicate a differentiation pathway that is more active or predominant in this subtype.\n",
    "Cellular Identity and Function: The distinct expression patterns of DLX1 and DLX2 could reflect differences in the cellular identity and function of NPC1 and NPC2 cells. NPC2 cells might be more committed to a specific lineage or function that requires higher levels of these transcription factors2.\n",
    "Tumor Microenvironment: The tumor microenvironment can influence gene expression. NPC2 glioblastoma cells might be exposed to different signals or stresses that upregulate DLX1 and DLX2, contributing to their unique signature3.\n",
    "Regulatory Networks: DLX1 and DLX2 are part of complex regulatory networks that control cell proliferation, migration, and differentiation. Differences in these networks between NPC1 and NPC2 could lead to the observed differences in gene expression1.\n",
    "Understanding these mechanisms can provide insights into the biology of glioblastoma and potentially identify targets for therapeutic intervention. If you need more detailed information or have further questions, feel free to ask!\n",
    "1: Dlx1/2 are Central and Essential Components in the Transcriptional Code for Generating Olfactory Bulb Interneurons 2: Expression of dlx genes in the normal and regenerating brain of adult zebrafish 3: Dlx1 and Dlx2 Promote Interneuron GABA Synthesis, Synaptogenesis, and Survival"
   ]
  },
  {
   "cell_type": "code",
   "execution_count": null,
   "id": "ae705db9-0c6e-40f0-901b-f428381295ed",
   "metadata": {},
   "outputs": [],
   "source": []
  }
 ],
 "metadata": {
  "kernelspec": {
   "display_name": "Python 3 (ipykernel)",
   "language": "python",
   "name": "python3"
  },
  "language_info": {
   "codemirror_mode": {
    "name": "ipython",
    "version": 3
   },
   "file_extension": ".py",
   "mimetype": "text/x-python",
   "name": "python",
   "nbconvert_exporter": "python",
   "pygments_lexer": "ipython3",
   "version": "3.11.9"
  }
 },
 "nbformat": 4,
 "nbformat_minor": 5
}
